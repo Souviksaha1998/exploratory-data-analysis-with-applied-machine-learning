{
  "nbformat": 4,
  "nbformat_minor": 0,
  "metadata": {
    "colab": {
      "name": "IPL_DATA_ANALYZE_DONE.ipynb",
      "provenance": []
    },
    "kernelspec": {
      "name": "python3",
      "display_name": "Python 3"
    },
    "language_info": {
      "name": "python"
    },
    "accelerator": "GPU"
  },
  "cells": [
    {
      "cell_type": "code",
      "metadata": {
        "id": "YhszI0jE83qu"
      },
      "source": [
        "import numpy as np\n",
        "import pandas as pd\n",
        "import matplotlib.pyplot as plt\n",
        "import seaborn as sns"
      ],
      "execution_count": 98,
      "outputs": []
    },
    {
      "cell_type": "code",
      "metadata": {
        "id": "dbnRRPpq9VPR"
      },
      "source": [
        "df = pd.read_csv('player_stats.csv')"
      ],
      "execution_count": 99,
      "outputs": []
    },
    {
      "cell_type": "code",
      "metadata": {
        "colab": {
          "base_uri": "https://localhost:8080/",
          "height": 411
        },
        "id": "oaxMuNHv9Z8O",
        "outputId": "7bbdb86b-f1f0-4903-e6ab-f3b928baf562"
      },
      "source": [
        "df.head()"
      ],
      "execution_count": 100,
      "outputs": [
        {
          "output_type": "execute_result",
          "data": {
            "text/html": [
              "<div>\n",
              "<style scoped>\n",
              "    .dataframe tbody tr th:only-of-type {\n",
              "        vertical-align: middle;\n",
              "    }\n",
              "\n",
              "    .dataframe tbody tr th {\n",
              "        vertical-align: top;\n",
              "    }\n",
              "\n",
              "    .dataframe thead th {\n",
              "        text-align: right;\n",
              "    }\n",
              "</style>\n",
              "<table border=\"1\" class=\"dataframe\">\n",
              "  <thead>\n",
              "    <tr style=\"text-align: right;\">\n",
              "      <th></th>\n",
              "      <th>Unnamed: 0</th>\n",
              "      <th>Player_Id</th>\n",
              "      <th>Player_Name</th>\n",
              "      <th>DOB</th>\n",
              "      <th>Batting_Hand</th>\n",
              "      <th>Bowling_Skill</th>\n",
              "      <th>Country</th>\n",
              "      <th>total_matches</th>\n",
              "      <th>total_runs</th>\n",
              "      <th>centuries</th>\n",
              "      <th>half_centuries</th>\n",
              "      <th>total_fours</th>\n",
              "      <th>total_sixes</th>\n",
              "      <th>total_dotballs</th>\n",
              "      <th>total_balls_faced</th>\n",
              "      <th>total_ducks</th>\n",
              "      <th>best_score</th>\n",
              "      <th>total_outs</th>\n",
              "      <th>total_overs_bowled</th>\n",
              "      <th>total_wickets</th>\n",
              "      <th>total_runs_given</th>\n",
              "      <th>highest_runs_given</th>\n",
              "      <th>total_orangecaps</th>\n",
              "      <th>total_purplecaps</th>\n",
              "      <th>total_player_of_series</th>\n",
              "      <th>batting_average</th>\n",
              "      <th>strike_rate</th>\n",
              "    </tr>\n",
              "  </thead>\n",
              "  <tbody>\n",
              "    <tr>\n",
              "      <th>0</th>\n",
              "      <td>0</td>\n",
              "      <td>1</td>\n",
              "      <td>SC Ganguly</td>\n",
              "      <td>8-Jul-72</td>\n",
              "      <td>Left_Hand</td>\n",
              "      <td>Right-arm medium</td>\n",
              "      <td>India</td>\n",
              "      <td>59</td>\n",
              "      <td>1349</td>\n",
              "      <td>0</td>\n",
              "      <td>7</td>\n",
              "      <td>137</td>\n",
              "      <td>42</td>\n",
              "      <td>662</td>\n",
              "      <td>1326</td>\n",
              "      <td>7</td>\n",
              "      <td>91</td>\n",
              "      <td>38</td>\n",
              "      <td>46</td>\n",
              "      <td>8</td>\n",
              "      <td>359</td>\n",
              "      <td>39</td>\n",
              "      <td>0</td>\n",
              "      <td>0</td>\n",
              "      <td>0</td>\n",
              "      <td>35.500000</td>\n",
              "      <td>101.734540</td>\n",
              "    </tr>\n",
              "    <tr>\n",
              "      <th>1</th>\n",
              "      <td>1</td>\n",
              "      <td>2</td>\n",
              "      <td>BB McCullum</td>\n",
              "      <td>27-Sep-81</td>\n",
              "      <td>Right_Hand</td>\n",
              "      <td>Right-arm medium</td>\n",
              "      <td>New Zealand</td>\n",
              "      <td>92</td>\n",
              "      <td>2435</td>\n",
              "      <td>2</td>\n",
              "      <td>11</td>\n",
              "      <td>248</td>\n",
              "      <td>106</td>\n",
              "      <td>893</td>\n",
              "      <td>1954</td>\n",
              "      <td>5</td>\n",
              "      <td>158</td>\n",
              "      <td>76</td>\n",
              "      <td>0</td>\n",
              "      <td>0</td>\n",
              "      <td>0</td>\n",
              "      <td>0</td>\n",
              "      <td>0</td>\n",
              "      <td>0</td>\n",
              "      <td>0</td>\n",
              "      <td>32.039474</td>\n",
              "      <td>124.616172</td>\n",
              "    </tr>\n",
              "    <tr>\n",
              "      <th>2</th>\n",
              "      <td>2</td>\n",
              "      <td>3</td>\n",
              "      <td>RT Ponting</td>\n",
              "      <td>19-Dec-74</td>\n",
              "      <td>Right_Hand</td>\n",
              "      <td>Right-arm medium</td>\n",
              "      <td>Australia</td>\n",
              "      <td>10</td>\n",
              "      <td>91</td>\n",
              "      <td>0</td>\n",
              "      <td>0</td>\n",
              "      <td>5</td>\n",
              "      <td>2</td>\n",
              "      <td>69</td>\n",
              "      <td>129</td>\n",
              "      <td>4</td>\n",
              "      <td>28</td>\n",
              "      <td>4</td>\n",
              "      <td>0</td>\n",
              "      <td>0</td>\n",
              "      <td>0</td>\n",
              "      <td>0</td>\n",
              "      <td>0</td>\n",
              "      <td>0</td>\n",
              "      <td>0</td>\n",
              "      <td>22.750000</td>\n",
              "      <td>70.542636</td>\n",
              "    </tr>\n",
              "    <tr>\n",
              "      <th>3</th>\n",
              "      <td>3</td>\n",
              "      <td>4</td>\n",
              "      <td>DJ Hussey</td>\n",
              "      <td>15-Jul-77</td>\n",
              "      <td>Right_Hand</td>\n",
              "      <td>Right-arm offbreak</td>\n",
              "      <td>Australia</td>\n",
              "      <td>64</td>\n",
              "      <td>1322</td>\n",
              "      <td>0</td>\n",
              "      <td>5</td>\n",
              "      <td>90</td>\n",
              "      <td>60</td>\n",
              "      <td>423</td>\n",
              "      <td>1099</td>\n",
              "      <td>8</td>\n",
              "      <td>71</td>\n",
              "      <td>32</td>\n",
              "      <td>53</td>\n",
              "      <td>5</td>\n",
              "      <td>467</td>\n",
              "      <td>36</td>\n",
              "      <td>0</td>\n",
              "      <td>0</td>\n",
              "      <td>0</td>\n",
              "      <td>41.312500</td>\n",
              "      <td>120.291174</td>\n",
              "    </tr>\n",
              "    <tr>\n",
              "      <th>4</th>\n",
              "      <td>4</td>\n",
              "      <td>5</td>\n",
              "      <td>Mohammad Hafeez</td>\n",
              "      <td>17-Oct-80</td>\n",
              "      <td>Right_Hand</td>\n",
              "      <td>Right-arm offbreak</td>\n",
              "      <td>Pakistan</td>\n",
              "      <td>8</td>\n",
              "      <td>64</td>\n",
              "      <td>0</td>\n",
              "      <td>0</td>\n",
              "      <td>7</td>\n",
              "      <td>2</td>\n",
              "      <td>51</td>\n",
              "      <td>84</td>\n",
              "      <td>0</td>\n",
              "      <td>16</td>\n",
              "      <td>7</td>\n",
              "      <td>10</td>\n",
              "      <td>2</td>\n",
              "      <td>61</td>\n",
              "      <td>28</td>\n",
              "      <td>0</td>\n",
              "      <td>0</td>\n",
              "      <td>0</td>\n",
              "      <td>9.142857</td>\n",
              "      <td>76.190476</td>\n",
              "    </tr>\n",
              "  </tbody>\n",
              "</table>\n",
              "</div>"
            ],
            "text/plain": [
              "   Unnamed: 0  Player_Id  ... batting_average strike_rate\n",
              "0           0          1  ...       35.500000  101.734540\n",
              "1           1          2  ...       32.039474  124.616172\n",
              "2           2          3  ...       22.750000   70.542636\n",
              "3           3          4  ...       41.312500  120.291174\n",
              "4           4          5  ...        9.142857   76.190476\n",
              "\n",
              "[5 rows x 27 columns]"
            ]
          },
          "metadata": {},
          "execution_count": 100
        }
      ]
    },
    {
      "cell_type": "code",
      "metadata": {
        "id": "4WOI-49F9dmF"
      },
      "source": [
        "n = df.isnull().mean()"
      ],
      "execution_count": 101,
      "outputs": []
    },
    {
      "cell_type": "code",
      "metadata": {
        "colab": {
          "base_uri": "https://localhost:8080/",
          "height": 607
        },
        "id": "RrRa5gKi_hcu",
        "outputId": "956cef37-f3b8-4930-9571-2a951b54597c"
      },
      "source": [
        "pd.DataFrame(n, columns=['missing']).sort_values(by='missing',ascending=False).style.background_gradient(cmap=r'rainbow')"
      ],
      "execution_count": 102,
      "outputs": [
        {
          "output_type": "execute_result",
          "data": {
            "text/html": [
              "<style  type=\"text/css\" >\n",
              "#T_127f2030_0a9e_11ec_ae72_0242ac1c0002row0_col0{\n",
              "            background-color:  #ff0000;\n",
              "            color:  #f1f1f1;\n",
              "        }#T_127f2030_0a9e_11ec_ae72_0242ac1c0002row1_col0,#T_127f2030_0a9e_11ec_ae72_0242ac1c0002row2_col0{\n",
              "            background-color:  #94fda8;\n",
              "            color:  #000000;\n",
              "        }#T_127f2030_0a9e_11ec_ae72_0242ac1c0002row3_col0,#T_127f2030_0a9e_11ec_ae72_0242ac1c0002row4_col0,#T_127f2030_0a9e_11ec_ae72_0242ac1c0002row5_col0,#T_127f2030_0a9e_11ec_ae72_0242ac1c0002row6_col0,#T_127f2030_0a9e_11ec_ae72_0242ac1c0002row7_col0,#T_127f2030_0a9e_11ec_ae72_0242ac1c0002row8_col0,#T_127f2030_0a9e_11ec_ae72_0242ac1c0002row9_col0,#T_127f2030_0a9e_11ec_ae72_0242ac1c0002row10_col0,#T_127f2030_0a9e_11ec_ae72_0242ac1c0002row11_col0,#T_127f2030_0a9e_11ec_ae72_0242ac1c0002row12_col0,#T_127f2030_0a9e_11ec_ae72_0242ac1c0002row13_col0,#T_127f2030_0a9e_11ec_ae72_0242ac1c0002row14_col0,#T_127f2030_0a9e_11ec_ae72_0242ac1c0002row15_col0,#T_127f2030_0a9e_11ec_ae72_0242ac1c0002row16_col0,#T_127f2030_0a9e_11ec_ae72_0242ac1c0002row17_col0,#T_127f2030_0a9e_11ec_ae72_0242ac1c0002row18_col0,#T_127f2030_0a9e_11ec_ae72_0242ac1c0002row19_col0,#T_127f2030_0a9e_11ec_ae72_0242ac1c0002row20_col0,#T_127f2030_0a9e_11ec_ae72_0242ac1c0002row21_col0,#T_127f2030_0a9e_11ec_ae72_0242ac1c0002row22_col0,#T_127f2030_0a9e_11ec_ae72_0242ac1c0002row23_col0,#T_127f2030_0a9e_11ec_ae72_0242ac1c0002row24_col0,#T_127f2030_0a9e_11ec_ae72_0242ac1c0002row25_col0,#T_127f2030_0a9e_11ec_ae72_0242ac1c0002row26_col0{\n",
              "            background-color:  #8000ff;\n",
              "            color:  #f1f1f1;\n",
              "        }</style><table id=\"T_127f2030_0a9e_11ec_ae72_0242ac1c0002\" ><thead>    <tr>        <th class=\"blank level0\" ></th>        <th class=\"col_heading level0 col0\" >missing</th>    </tr></thead><tbody>\n",
              "                <tr>\n",
              "                        <th id=\"T_127f2030_0a9e_11ec_ae72_0242ac1c0002level0_row0\" class=\"row_heading level0 row0\" >Bowling_Skill</th>\n",
              "                        <td id=\"T_127f2030_0a9e_11ec_ae72_0242ac1c0002row0_col0\" class=\"data row0 col0\" >0.183556</td>\n",
              "            </tr>\n",
              "            <tr>\n",
              "                        <th id=\"T_127f2030_0a9e_11ec_ae72_0242ac1c0002level0_row1\" class=\"row_heading level0 row1\" >DOB</th>\n",
              "                        <td id=\"T_127f2030_0a9e_11ec_ae72_0242ac1c0002row1_col0\" class=\"data row1 col0\" >0.099426</td>\n",
              "            </tr>\n",
              "            <tr>\n",
              "                        <th id=\"T_127f2030_0a9e_11ec_ae72_0242ac1c0002level0_row2\" class=\"row_heading level0 row2\" >Batting_Hand</th>\n",
              "                        <td id=\"T_127f2030_0a9e_11ec_ae72_0242ac1c0002row2_col0\" class=\"data row2 col0\" >0.099426</td>\n",
              "            </tr>\n",
              "            <tr>\n",
              "                        <th id=\"T_127f2030_0a9e_11ec_ae72_0242ac1c0002level0_row3\" class=\"row_heading level0 row3\" >Unnamed: 0</th>\n",
              "                        <td id=\"T_127f2030_0a9e_11ec_ae72_0242ac1c0002row3_col0\" class=\"data row3 col0\" >0.000000</td>\n",
              "            </tr>\n",
              "            <tr>\n",
              "                        <th id=\"T_127f2030_0a9e_11ec_ae72_0242ac1c0002level0_row4\" class=\"row_heading level0 row4\" >total_ducks</th>\n",
              "                        <td id=\"T_127f2030_0a9e_11ec_ae72_0242ac1c0002row4_col0\" class=\"data row4 col0\" >0.000000</td>\n",
              "            </tr>\n",
              "            <tr>\n",
              "                        <th id=\"T_127f2030_0a9e_11ec_ae72_0242ac1c0002level0_row5\" class=\"row_heading level0 row5\" >batting_average</th>\n",
              "                        <td id=\"T_127f2030_0a9e_11ec_ae72_0242ac1c0002row5_col0\" class=\"data row5 col0\" >0.000000</td>\n",
              "            </tr>\n",
              "            <tr>\n",
              "                        <th id=\"T_127f2030_0a9e_11ec_ae72_0242ac1c0002level0_row6\" class=\"row_heading level0 row6\" >total_player_of_series</th>\n",
              "                        <td id=\"T_127f2030_0a9e_11ec_ae72_0242ac1c0002row6_col0\" class=\"data row6 col0\" >0.000000</td>\n",
              "            </tr>\n",
              "            <tr>\n",
              "                        <th id=\"T_127f2030_0a9e_11ec_ae72_0242ac1c0002level0_row7\" class=\"row_heading level0 row7\" >total_purplecaps</th>\n",
              "                        <td id=\"T_127f2030_0a9e_11ec_ae72_0242ac1c0002row7_col0\" class=\"data row7 col0\" >0.000000</td>\n",
              "            </tr>\n",
              "            <tr>\n",
              "                        <th id=\"T_127f2030_0a9e_11ec_ae72_0242ac1c0002level0_row8\" class=\"row_heading level0 row8\" >total_orangecaps</th>\n",
              "                        <td id=\"T_127f2030_0a9e_11ec_ae72_0242ac1c0002row8_col0\" class=\"data row8 col0\" >0.000000</td>\n",
              "            </tr>\n",
              "            <tr>\n",
              "                        <th id=\"T_127f2030_0a9e_11ec_ae72_0242ac1c0002level0_row9\" class=\"row_heading level0 row9\" >highest_runs_given</th>\n",
              "                        <td id=\"T_127f2030_0a9e_11ec_ae72_0242ac1c0002row9_col0\" class=\"data row9 col0\" >0.000000</td>\n",
              "            </tr>\n",
              "            <tr>\n",
              "                        <th id=\"T_127f2030_0a9e_11ec_ae72_0242ac1c0002level0_row10\" class=\"row_heading level0 row10\" >total_runs_given</th>\n",
              "                        <td id=\"T_127f2030_0a9e_11ec_ae72_0242ac1c0002row10_col0\" class=\"data row10 col0\" >0.000000</td>\n",
              "            </tr>\n",
              "            <tr>\n",
              "                        <th id=\"T_127f2030_0a9e_11ec_ae72_0242ac1c0002level0_row11\" class=\"row_heading level0 row11\" >total_wickets</th>\n",
              "                        <td id=\"T_127f2030_0a9e_11ec_ae72_0242ac1c0002row11_col0\" class=\"data row11 col0\" >0.000000</td>\n",
              "            </tr>\n",
              "            <tr>\n",
              "                        <th id=\"T_127f2030_0a9e_11ec_ae72_0242ac1c0002level0_row12\" class=\"row_heading level0 row12\" >total_overs_bowled</th>\n",
              "                        <td id=\"T_127f2030_0a9e_11ec_ae72_0242ac1c0002row12_col0\" class=\"data row12 col0\" >0.000000</td>\n",
              "            </tr>\n",
              "            <tr>\n",
              "                        <th id=\"T_127f2030_0a9e_11ec_ae72_0242ac1c0002level0_row13\" class=\"row_heading level0 row13\" >total_outs</th>\n",
              "                        <td id=\"T_127f2030_0a9e_11ec_ae72_0242ac1c0002row13_col0\" class=\"data row13 col0\" >0.000000</td>\n",
              "            </tr>\n",
              "            <tr>\n",
              "                        <th id=\"T_127f2030_0a9e_11ec_ae72_0242ac1c0002level0_row14\" class=\"row_heading level0 row14\" >best_score</th>\n",
              "                        <td id=\"T_127f2030_0a9e_11ec_ae72_0242ac1c0002row14_col0\" class=\"data row14 col0\" >0.000000</td>\n",
              "            </tr>\n",
              "            <tr>\n",
              "                        <th id=\"T_127f2030_0a9e_11ec_ae72_0242ac1c0002level0_row15\" class=\"row_heading level0 row15\" >total_dotballs</th>\n",
              "                        <td id=\"T_127f2030_0a9e_11ec_ae72_0242ac1c0002row15_col0\" class=\"data row15 col0\" >0.000000</td>\n",
              "            </tr>\n",
              "            <tr>\n",
              "                        <th id=\"T_127f2030_0a9e_11ec_ae72_0242ac1c0002level0_row16\" class=\"row_heading level0 row16\" >total_balls_faced</th>\n",
              "                        <td id=\"T_127f2030_0a9e_11ec_ae72_0242ac1c0002row16_col0\" class=\"data row16 col0\" >0.000000</td>\n",
              "            </tr>\n",
              "            <tr>\n",
              "                        <th id=\"T_127f2030_0a9e_11ec_ae72_0242ac1c0002level0_row17\" class=\"row_heading level0 row17\" >Player_Id</th>\n",
              "                        <td id=\"T_127f2030_0a9e_11ec_ae72_0242ac1c0002row17_col0\" class=\"data row17 col0\" >0.000000</td>\n",
              "            </tr>\n",
              "            <tr>\n",
              "                        <th id=\"T_127f2030_0a9e_11ec_ae72_0242ac1c0002level0_row18\" class=\"row_heading level0 row18\" >total_sixes</th>\n",
              "                        <td id=\"T_127f2030_0a9e_11ec_ae72_0242ac1c0002row18_col0\" class=\"data row18 col0\" >0.000000</td>\n",
              "            </tr>\n",
              "            <tr>\n",
              "                        <th id=\"T_127f2030_0a9e_11ec_ae72_0242ac1c0002level0_row19\" class=\"row_heading level0 row19\" >total_fours</th>\n",
              "                        <td id=\"T_127f2030_0a9e_11ec_ae72_0242ac1c0002row19_col0\" class=\"data row19 col0\" >0.000000</td>\n",
              "            </tr>\n",
              "            <tr>\n",
              "                        <th id=\"T_127f2030_0a9e_11ec_ae72_0242ac1c0002level0_row20\" class=\"row_heading level0 row20\" >half_centuries</th>\n",
              "                        <td id=\"T_127f2030_0a9e_11ec_ae72_0242ac1c0002row20_col0\" class=\"data row20 col0\" >0.000000</td>\n",
              "            </tr>\n",
              "            <tr>\n",
              "                        <th id=\"T_127f2030_0a9e_11ec_ae72_0242ac1c0002level0_row21\" class=\"row_heading level0 row21\" >centuries</th>\n",
              "                        <td id=\"T_127f2030_0a9e_11ec_ae72_0242ac1c0002row21_col0\" class=\"data row21 col0\" >0.000000</td>\n",
              "            </tr>\n",
              "            <tr>\n",
              "                        <th id=\"T_127f2030_0a9e_11ec_ae72_0242ac1c0002level0_row22\" class=\"row_heading level0 row22\" >total_runs</th>\n",
              "                        <td id=\"T_127f2030_0a9e_11ec_ae72_0242ac1c0002row22_col0\" class=\"data row22 col0\" >0.000000</td>\n",
              "            </tr>\n",
              "            <tr>\n",
              "                        <th id=\"T_127f2030_0a9e_11ec_ae72_0242ac1c0002level0_row23\" class=\"row_heading level0 row23\" >total_matches</th>\n",
              "                        <td id=\"T_127f2030_0a9e_11ec_ae72_0242ac1c0002row23_col0\" class=\"data row23 col0\" >0.000000</td>\n",
              "            </tr>\n",
              "            <tr>\n",
              "                        <th id=\"T_127f2030_0a9e_11ec_ae72_0242ac1c0002level0_row24\" class=\"row_heading level0 row24\" >Country</th>\n",
              "                        <td id=\"T_127f2030_0a9e_11ec_ae72_0242ac1c0002row24_col0\" class=\"data row24 col0\" >0.000000</td>\n",
              "            </tr>\n",
              "            <tr>\n",
              "                        <th id=\"T_127f2030_0a9e_11ec_ae72_0242ac1c0002level0_row25\" class=\"row_heading level0 row25\" >Player_Name</th>\n",
              "                        <td id=\"T_127f2030_0a9e_11ec_ae72_0242ac1c0002row25_col0\" class=\"data row25 col0\" >0.000000</td>\n",
              "            </tr>\n",
              "            <tr>\n",
              "                        <th id=\"T_127f2030_0a9e_11ec_ae72_0242ac1c0002level0_row26\" class=\"row_heading level0 row26\" >strike_rate</th>\n",
              "                        <td id=\"T_127f2030_0a9e_11ec_ae72_0242ac1c0002row26_col0\" class=\"data row26 col0\" >0.000000</td>\n",
              "            </tr>\n",
              "    </tbody></table>"
            ],
            "text/plain": [
              "<pandas.io.formats.style.Styler at 0x7ff9de81e250>"
            ]
          },
          "metadata": {},
          "execution_count": 102
        }
      ]
    },
    {
      "cell_type": "markdown",
      "metadata": {
        "id": "cVYxMGor-POd"
      },
      "source": [
        "plt.figure(figsize=(10,5),dpi=100)\n",
        "sns.heatmap(df.isnull(), cmap='viridis' , yticklabels=False)"
      ]
    },
    {
      "cell_type": "code",
      "metadata": {
        "id": "yvC88aBN-eSK"
      },
      "source": [
        "df.drop('DOB' , axis = 1 , inplace=True)"
      ],
      "execution_count": 103,
      "outputs": []
    },
    {
      "cell_type": "code",
      "metadata": {
        "colab": {
          "base_uri": "https://localhost:8080/"
        },
        "id": "r9C-cvwnA1pS",
        "outputId": "800f0351-6861-478a-af38-769394f23e09"
      },
      "source": [
        "df.info()"
      ],
      "execution_count": 104,
      "outputs": [
        {
          "output_type": "stream",
          "name": "stdout",
          "text": [
            "<class 'pandas.core.frame.DataFrame'>\n",
            "RangeIndex: 523 entries, 0 to 522\n",
            "Data columns (total 26 columns):\n",
            " #   Column                  Non-Null Count  Dtype  \n",
            "---  ------                  --------------  -----  \n",
            " 0   Unnamed: 0              523 non-null    int64  \n",
            " 1   Player_Id               523 non-null    int64  \n",
            " 2   Player_Name             523 non-null    object \n",
            " 3   Batting_Hand            471 non-null    object \n",
            " 4   Bowling_Skill           427 non-null    object \n",
            " 5   Country                 523 non-null    object \n",
            " 6   total_matches           523 non-null    int64  \n",
            " 7   total_runs              523 non-null    int64  \n",
            " 8   centuries               523 non-null    int64  \n",
            " 9   half_centuries          523 non-null    int64  \n",
            " 10  total_fours             523 non-null    int64  \n",
            " 11  total_sixes             523 non-null    int64  \n",
            " 12  total_dotballs          523 non-null    int64  \n",
            " 13  total_balls_faced       523 non-null    int64  \n",
            " 14  total_ducks             523 non-null    int64  \n",
            " 15  best_score              523 non-null    int64  \n",
            " 16  total_outs              523 non-null    int64  \n",
            " 17  total_overs_bowled      523 non-null    int64  \n",
            " 18  total_wickets           523 non-null    int64  \n",
            " 19  total_runs_given        523 non-null    int64  \n",
            " 20  highest_runs_given      523 non-null    int64  \n",
            " 21  total_orangecaps        523 non-null    int64  \n",
            " 22  total_purplecaps        523 non-null    int64  \n",
            " 23  total_player_of_series  523 non-null    int64  \n",
            " 24  batting_average         523 non-null    float64\n",
            " 25  strike_rate             523 non-null    float64\n",
            "dtypes: float64(2), int64(20), object(4)\n",
            "memory usage: 106.4+ KB\n"
          ]
        }
      ]
    },
    {
      "cell_type": "code",
      "metadata": {
        "colab": {
          "base_uri": "https://localhost:8080/",
          "height": 35
        },
        "id": "EXLqukgRA7um",
        "outputId": "f4f55ebf-6bdb-46bc-f2f1-4fd16eba9abf"
      },
      "source": [
        "df['Bowling_Skill'].mode()[0]"
      ],
      "execution_count": 105,
      "outputs": [
        {
          "output_type": "execute_result",
          "data": {
            "application/vnd.google.colaboratory.intrinsic+json": {
              "type": "string"
            },
            "text/plain": [
              "'Right-arm medium'"
            ]
          },
          "metadata": {},
          "execution_count": 105
        }
      ]
    },
    {
      "cell_type": "code",
      "metadata": {
        "id": "_sUOUxAPBxHu"
      },
      "source": [
        "df['Bowling_Skill'] = df['Bowling_Skill'].fillna(df['Bowling_Skill'].mode()[0])"
      ],
      "execution_count": 106,
      "outputs": []
    },
    {
      "cell_type": "code",
      "metadata": {
        "colab": {
          "base_uri": "https://localhost:8080/"
        },
        "id": "KnLYlfPyB8aT",
        "outputId": "db120a2e-38e4-439f-ee82-94e17451e668"
      },
      "source": [
        "df.isnull().sum()"
      ],
      "execution_count": 107,
      "outputs": [
        {
          "output_type": "execute_result",
          "data": {
            "text/plain": [
              "Unnamed: 0                 0\n",
              "Player_Id                  0\n",
              "Player_Name                0\n",
              "Batting_Hand              52\n",
              "Bowling_Skill              0\n",
              "Country                    0\n",
              "total_matches              0\n",
              "total_runs                 0\n",
              "centuries                  0\n",
              "half_centuries             0\n",
              "total_fours                0\n",
              "total_sixes                0\n",
              "total_dotballs             0\n",
              "total_balls_faced          0\n",
              "total_ducks                0\n",
              "best_score                 0\n",
              "total_outs                 0\n",
              "total_overs_bowled         0\n",
              "total_wickets              0\n",
              "total_runs_given           0\n",
              "highest_runs_given         0\n",
              "total_orangecaps           0\n",
              "total_purplecaps           0\n",
              "total_player_of_series     0\n",
              "batting_average            0\n",
              "strike_rate                0\n",
              "dtype: int64"
            ]
          },
          "metadata": {},
          "execution_count": 107
        }
      ]
    },
    {
      "cell_type": "code",
      "metadata": {
        "colab": {
          "base_uri": "https://localhost:8080/"
        },
        "id": "L1kvfmjxCBBC",
        "outputId": "1a8e281e-eeb5-4264-f7e2-1150976dee9b"
      },
      "source": [
        "df['Batting_Hand'].mode()"
      ],
      "execution_count": 108,
      "outputs": [
        {
          "output_type": "execute_result",
          "data": {
            "text/plain": [
              "0    Right_Hand\n",
              "dtype: object"
            ]
          },
          "metadata": {},
          "execution_count": 108
        }
      ]
    },
    {
      "cell_type": "code",
      "metadata": {
        "id": "HzswXuQECIas"
      },
      "source": [
        "df['Batting_Hand'] = df['Batting_Hand'].fillna(df['Batting_Hand'].mode()[0])"
      ],
      "execution_count": 109,
      "outputs": []
    },
    {
      "cell_type": "code",
      "metadata": {
        "colab": {
          "base_uri": "https://localhost:8080/"
        },
        "id": "SPzdcwhCCTsL",
        "outputId": "15dae02c-6776-4f06-cf7b-993ff4cda215"
      },
      "source": [
        "df.isnull().sum()"
      ],
      "execution_count": 110,
      "outputs": [
        {
          "output_type": "execute_result",
          "data": {
            "text/plain": [
              "Unnamed: 0                0\n",
              "Player_Id                 0\n",
              "Player_Name               0\n",
              "Batting_Hand              0\n",
              "Bowling_Skill             0\n",
              "Country                   0\n",
              "total_matches             0\n",
              "total_runs                0\n",
              "centuries                 0\n",
              "half_centuries            0\n",
              "total_fours               0\n",
              "total_sixes               0\n",
              "total_dotballs            0\n",
              "total_balls_faced         0\n",
              "total_ducks               0\n",
              "best_score                0\n",
              "total_outs                0\n",
              "total_overs_bowled        0\n",
              "total_wickets             0\n",
              "total_runs_given          0\n",
              "highest_runs_given        0\n",
              "total_orangecaps          0\n",
              "total_purplecaps          0\n",
              "total_player_of_series    0\n",
              "batting_average           0\n",
              "strike_rate               0\n",
              "dtype: int64"
            ]
          },
          "metadata": {},
          "execution_count": 110
        }
      ]
    },
    {
      "cell_type": "code",
      "metadata": {
        "colab": {
          "base_uri": "https://localhost:8080/",
          "height": 482
        },
        "id": "4g6b4E7xCX1h",
        "outputId": "90ab84f8-540d-43e0-f27c-069fd78bf773"
      },
      "source": [
        "x = df['Batting_Hand'].value_counts()\n",
        "plt.rcParams['figure.figsize'] = (8,8)\n",
        "plt.pie(x , labels=x.index , autopct=\"%1.1f%%\" , explode=[0.1,0])\n",
        "plt.title('BATTING HAND')\n",
        "plt.show()"
      ],
      "execution_count": 111,
      "outputs": [
        {
          "output_type": "display_data",
          "data": {
            "image/png": "[encoded data removed]",
            "text/plain": [
              "<Figure size 576x576 with 1 Axes>"
            ]
          },
          "metadata": {}
        }
      ]
    },
    {
      "cell_type": "code",
      "metadata": {
        "id": "p0iWIZVzDInN"
      },
      "source": [
        "y = df['Bowling_Skill'].value_counts().head(5)"
      ],
      "execution_count": 112,
      "outputs": []
    },
    {
      "cell_type": "code",
      "metadata": {
        "colab": {
          "base_uri": "https://localhost:8080/",
          "height": 482
        },
        "id": "JmHz2aZIDwOB",
        "outputId": "f513c4e6-2689-4c25-be5c-c57ece50bdae"
      },
      "source": [
        "plt.rcParams['figure.figsize'] = (8,8)\n",
        "plt.pie(y , labels=y.index , autopct=\"%1.1f%%\")\n",
        "plt.title('TOP 5 BOWLING  HAND')\n",
        "plt.show()"
      ],
      "execution_count": 113,
      "outputs": [
        {
          "output_type": "display_data",
          "data": {
            "image/png": "[encoded data removed]",
            "text/plain": [
              "<Figure size 576x576 with 1 Axes>"
            ]
          },
          "metadata": {}
        }
      ]
    },
    {
      "cell_type": "code",
      "metadata": {
        "id": "A0jmWHDpGJ-r"
      },
      "source": [
        "z = df['Country'].value_counts().sort_values(ascending=False).head()"
      ],
      "execution_count": 114,
      "outputs": []
    },
    {
      "cell_type": "code",
      "metadata": {
        "colab": {
          "base_uri": "https://localhost:8080/",
          "height": 482
        },
        "id": "H3cWhH6PGwoM",
        "outputId": "4e23bf05-63d4-4a2d-a6d8-1ce66a48cdb1"
      },
      "source": [
        "def cal(val):\n",
        "  n = np.round(val/100*z.sum())\n",
        "  return n\n",
        "plt.rcParams['figure.figsize'] = (8,8)\n",
        "plt.pie(z , labels=z.index , autopct=cal , explode = [ 0,0,0,0,0.2])\n",
        "plt.title('Countries with most players')\n",
        "plt.show()"
      ],
      "execution_count": 115,
      "outputs": [
        {
          "output_type": "display_data",
          "data": {
            "image/png": "[encoded data removed]",
            "text/plain": [
              "<Figure size 576x576 with 1 Axes>"
            ]
          },
          "metadata": {}
        }
      ]
    },
    {
      "cell_type": "code",
      "metadata": {
        "colab": {
          "base_uri": "https://localhost:8080/",
          "height": 145
        },
        "id": "gZAaGt9LHkid",
        "outputId": "1dbb64a4-a517-4482-9eff-3b0ff80b69e5"
      },
      "source": [
        "df[['Player_Name' , 'total_matches' ]].sort_values(by='total_matches' , ascending=False).head(5).style.background_gradient(cmap='viridis')"
      ],
      "execution_count": 116,
      "outputs": [
        {
          "output_type": "execute_result",
          "data": {
            "text/html": [
              "<style  type=\"text/css\" >\n",
              "#T_12d65be8_0a9e_11ec_ae72_0242ac1c0002row0_col1{\n",
              "            background-color:  #fde725;\n",
              "            color:  #000000;\n",
              "        }#T_12d65be8_0a9e_11ec_ae72_0242ac1c0002row1_col1,#T_12d65be8_0a9e_11ec_ae72_0242ac1c0002row2_col1{\n",
              "            background-color:  #21918c;\n",
              "            color:  #000000;\n",
              "        }#T_12d65be8_0a9e_11ec_ae72_0242ac1c0002row3_col1,#T_12d65be8_0a9e_11ec_ae72_0242ac1c0002row4_col1{\n",
              "            background-color:  #440154;\n",
              "            color:  #f1f1f1;\n",
              "        }</style><table id=\"T_12d65be8_0a9e_11ec_ae72_0242ac1c0002\" ><thead>    <tr>        <th class=\"blank level0\" ></th>        <th class=\"col_heading level0 col0\" >Player_Name</th>        <th class=\"col_heading level0 col1\" >total_matches</th>    </tr></thead><tbody>\n",
              "                <tr>\n",
              "                        <th id=\"T_12d65be8_0a9e_11ec_ae72_0242ac1c0002level0_row0\" class=\"row_heading level0 row0\" >20</th>\n",
              "                        <td id=\"T_12d65be8_0a9e_11ec_ae72_0242ac1c0002row0_col0\" class=\"data row0 col0\" >SK Raina</td>\n",
              "                        <td id=\"T_12d65be8_0a9e_11ec_ae72_0242ac1c0002row0_col1\" class=\"data row0 col1\" >146</td>\n",
              "            </tr>\n",
              "            <tr>\n",
              "                        <th id=\"T_12d65be8_0a9e_11ec_ae72_0242ac1c0002level0_row1\" class=\"row_heading level0 row1\" >19</th>\n",
              "                        <td id=\"T_12d65be8_0a9e_11ec_ae72_0242ac1c0002row1_col0\" class=\"data row1 col0\" >MS Dhoni</td>\n",
              "                        <td id=\"T_12d65be8_0a9e_11ec_ae72_0242ac1c0002row1_col1\" class=\"data row1 col1\" >142</td>\n",
              "            </tr>\n",
              "            <tr>\n",
              "                        <th id=\"T_12d65be8_0a9e_11ec_ae72_0242ac1c0002level0_row2\" class=\"row_heading level0 row2\" >56</th>\n",
              "                        <td id=\"T_12d65be8_0a9e_11ec_ae72_0242ac1c0002row2_col0\" class=\"data row2 col0\" >RG Sharma</td>\n",
              "                        <td id=\"T_12d65be8_0a9e_11ec_ae72_0242ac1c0002row2_col1\" class=\"data row2 col1\" >142</td>\n",
              "            </tr>\n",
              "            <tr>\n",
              "                        <th id=\"T_12d65be8_0a9e_11ec_ae72_0242ac1c0002level0_row3\" class=\"row_heading level0 row3\" >7</th>\n",
              "                        <td id=\"T_12d65be8_0a9e_11ec_ae72_0242ac1c0002row3_col0\" class=\"data row3 col0\" >V Kohli</td>\n",
              "                        <td id=\"T_12d65be8_0a9e_11ec_ae72_0242ac1c0002row3_col1\" class=\"data row3 col1\" >138</td>\n",
              "            </tr>\n",
              "            <tr>\n",
              "                        <th id=\"T_12d65be8_0a9e_11ec_ae72_0242ac1c0002level0_row4\" class=\"row_heading level0 row4\" >87</th>\n",
              "                        <td id=\"T_12d65be8_0a9e_11ec_ae72_0242ac1c0002row4_col0\" class=\"data row4 col0\" >KD Karthik</td>\n",
              "                        <td id=\"T_12d65be8_0a9e_11ec_ae72_0242ac1c0002row4_col1\" class=\"data row4 col1\" >138</td>\n",
              "            </tr>\n",
              "    </tbody></table>"
            ],
            "text/plain": [
              "<pandas.io.formats.style.Styler at 0x7ff9de74cf10>"
            ]
          },
          "metadata": {},
          "execution_count": 116
        }
      ]
    },
    {
      "cell_type": "code",
      "metadata": {
        "colab": {
          "base_uri": "https://localhost:8080/",
          "height": 145
        },
        "id": "W24kfT12Id0m",
        "outputId": "ee7c2eb5-d7a6-46d6-f7b2-9ea29c66f751"
      },
      "source": [
        "df[['Player_Name' , 'total_runs' ]].sort_values(by='total_runs' , ascending=False).head(5).style.background_gradient(cmap='bone_r')"
      ],
      "execution_count": 117,
      "outputs": [
        {
          "output_type": "execute_result",
          "data": {
            "text/html": [
              "<style  type=\"text/css\" >\n",
              "#T_12da686e_0a9e_11ec_ae72_0242ac1c0002row0_col1,#T_12da686e_0a9e_11ec_ae72_0242ac1c0002row1_col1{\n",
              "            background-color:  #000000;\n",
              "            color:  #f1f1f1;\n",
              "        }#T_12da686e_0a9e_11ec_ae72_0242ac1c0002row2_col1{\n",
              "            background-color:  #4f4f6e;\n",
              "            color:  #f1f1f1;\n",
              "        }#T_12da686e_0a9e_11ec_ae72_0242ac1c0002row3_col1{\n",
              "            background-color:  #a0bec0;\n",
              "            color:  #000000;\n",
              "        }#T_12da686e_0a9e_11ec_ae72_0242ac1c0002row4_col1{\n",
              "            background-color:  #ffffff;\n",
              "            color:  #000000;\n",
              "        }</style><table id=\"T_12da686e_0a9e_11ec_ae72_0242ac1c0002\" ><thead>    <tr>        <th class=\"blank level0\" ></th>        <th class=\"col_heading level0 col0\" >Player_Name</th>        <th class=\"col_heading level0 col1\" >total_runs</th>    </tr></thead><tbody>\n",
              "                <tr>\n",
              "                        <th id=\"T_12da686e_0a9e_11ec_ae72_0242ac1c0002level0_row0\" class=\"row_heading level0 row0\" >20</th>\n",
              "                        <td id=\"T_12da686e_0a9e_11ec_ae72_0242ac1c0002row0_col0\" class=\"data row0 col0\" >SK Raina</td>\n",
              "                        <td id=\"T_12da686e_0a9e_11ec_ae72_0242ac1c0002row0_col1\" class=\"data row0 col1\" >4106</td>\n",
              "            </tr>\n",
              "            <tr>\n",
              "                        <th id=\"T_12da686e_0a9e_11ec_ae72_0242ac1c0002level0_row1\" class=\"row_heading level0 row1\" >7</th>\n",
              "                        <td id=\"T_12da686e_0a9e_11ec_ae72_0242ac1c0002row1_col0\" class=\"data row1 col0\" >V Kohli</td>\n",
              "                        <td id=\"T_12da686e_0a9e_11ec_ae72_0242ac1c0002row1_col1\" class=\"data row1 col1\" >4105</td>\n",
              "            </tr>\n",
              "            <tr>\n",
              "                        <th id=\"T_12da686e_0a9e_11ec_ae72_0242ac1c0002level0_row2\" class=\"row_heading level0 row2\" >56</th>\n",
              "                        <td id=\"T_12da686e_0a9e_11ec_ae72_0242ac1c0002row2_col0\" class=\"data row2 col0\" >RG Sharma</td>\n",
              "                        <td id=\"T_12da686e_0a9e_11ec_ae72_0242ac1c0002row2_col1\" class=\"data row2 col1\" >3874</td>\n",
              "            </tr>\n",
              "            <tr>\n",
              "                        <th id=\"T_12da686e_0a9e_11ec_ae72_0242ac1c0002level0_row3\" class=\"row_heading level0 row3\" >39</th>\n",
              "                        <td id=\"T_12da686e_0a9e_11ec_ae72_0242ac1c0002row3_col0\" class=\"data row3 col0\" >G Gambhir</td>\n",
              "                        <td id=\"T_12da686e_0a9e_11ec_ae72_0242ac1c0002row3_col1\" class=\"data row3 col1\" >3634</td>\n",
              "            </tr>\n",
              "            <tr>\n",
              "                        <th id=\"T_12da686e_0a9e_11ec_ae72_0242ac1c0002level0_row4\" class=\"row_heading level0 row4\" >161</th>\n",
              "                        <td id=\"T_12da686e_0a9e_11ec_ae72_0242ac1c0002row4_col0\" class=\"data row4 col0\" >CH Gayle</td>\n",
              "                        <td id=\"T_12da686e_0a9e_11ec_ae72_0242ac1c0002row4_col1\" class=\"data row4 col1\" >3447</td>\n",
              "            </tr>\n",
              "    </tbody></table>"
            ],
            "text/plain": [
              "<pandas.io.formats.style.Styler at 0x7ff9de70abd0>"
            ]
          },
          "metadata": {},
          "execution_count": 117
        }
      ]
    },
    {
      "cell_type": "code",
      "metadata": {
        "colab": {
          "base_uri": "https://localhost:8080/",
          "height": 145
        },
        "id": "camRFq41IqT0",
        "outputId": "cad0298d-d743-47a7-e98f-d2dcdcbbf2d1"
      },
      "source": [
        "df[['Player_Name' , 'Country' , 'centuries' ]].sort_values(by='centuries' , ascending=False).head(5).style.background_gradient(cmap='Set2')"
      ],
      "execution_count": 118,
      "outputs": [
        {
          "output_type": "execute_result",
          "data": {
            "text/html": [
              "<style  type=\"text/css\" >\n",
              "#T_12ded0ac_0a9e_11ec_ae72_0242ac1c0002row0_col2{\n",
              "            background-color:  #b3b3b3;\n",
              "            color:  #000000;\n",
              "        }#T_12ded0ac_0a9e_11ec_ae72_0242ac1c0002row1_col2{\n",
              "            background-color:  #ffd92f;\n",
              "            color:  #000000;\n",
              "        }#T_12ded0ac_0a9e_11ec_ae72_0242ac1c0002row2_col2{\n",
              "            background-color:  #8da0cb;\n",
              "            color:  #000000;\n",
              "        }#T_12ded0ac_0a9e_11ec_ae72_0242ac1c0002row3_col2,#T_12ded0ac_0a9e_11ec_ae72_0242ac1c0002row4_col2{\n",
              "            background-color:  #66c2a5;\n",
              "            color:  #000000;\n",
              "        }</style><table id=\"T_12ded0ac_0a9e_11ec_ae72_0242ac1c0002\" ><thead>    <tr>        <th class=\"blank level0\" ></th>        <th class=\"col_heading level0 col0\" >Player_Name</th>        <th class=\"col_heading level0 col1\" >Country</th>        <th class=\"col_heading level0 col2\" >centuries</th>    </tr></thead><tbody>\n",
              "                <tr>\n",
              "                        <th id=\"T_12ded0ac_0a9e_11ec_ae72_0242ac1c0002level0_row0\" class=\"row_heading level0 row0\" >161</th>\n",
              "                        <td id=\"T_12ded0ac_0a9e_11ec_ae72_0242ac1c0002row0_col0\" class=\"data row0 col0\" >CH Gayle</td>\n",
              "                        <td id=\"T_12ded0ac_0a9e_11ec_ae72_0242ac1c0002row0_col1\" class=\"data row0 col1\" >West Indies</td>\n",
              "                        <td id=\"T_12ded0ac_0a9e_11ec_ae72_0242ac1c0002row0_col2\" class=\"data row0 col2\" >5</td>\n",
              "            </tr>\n",
              "            <tr>\n",
              "                        <th id=\"T_12ded0ac_0a9e_11ec_ae72_0242ac1c0002level0_row1\" class=\"row_heading level0 row1\" >7</th>\n",
              "                        <td id=\"T_12ded0ac_0a9e_11ec_ae72_0242ac1c0002row1_col0\" class=\"data row1 col0\" >V Kohli</td>\n",
              "                        <td id=\"T_12ded0ac_0a9e_11ec_ae72_0242ac1c0002row1_col1\" class=\"data row1 col1\" >India</td>\n",
              "                        <td id=\"T_12ded0ac_0a9e_11ec_ae72_0242ac1c0002row1_col2\" class=\"data row1 col2\" >4</td>\n",
              "            </tr>\n",
              "            <tr>\n",
              "                        <th id=\"T_12ded0ac_0a9e_11ec_ae72_0242ac1c0002level0_row2\" class=\"row_heading level0 row2\" >109</th>\n",
              "                        <td id=\"T_12ded0ac_0a9e_11ec_ae72_0242ac1c0002row2_col0\" class=\"data row2 col0\" >AB de Villiers</td>\n",
              "                        <td id=\"T_12ded0ac_0a9e_11ec_ae72_0242ac1c0002row2_col1\" class=\"data row2 col1\" >South Africa</td>\n",
              "                        <td id=\"T_12ded0ac_0a9e_11ec_ae72_0242ac1c0002row2_col2\" class=\"data row2 col2\" >3</td>\n",
              "            </tr>\n",
              "            <tr>\n",
              "                        <th id=\"T_12ded0ac_0a9e_11ec_ae72_0242ac1c0002level0_row3\" class=\"row_heading level0 row3\" >40</th>\n",
              "                        <td id=\"T_12ded0ac_0a9e_11ec_ae72_0242ac1c0002row3_col0\" class=\"data row3 col0\" >V Sehwag</td>\n",
              "                        <td id=\"T_12ded0ac_0a9e_11ec_ae72_0242ac1c0002row3_col1\" class=\"data row3 col1\" >India</td>\n",
              "                        <td id=\"T_12ded0ac_0a9e_11ec_ae72_0242ac1c0002row3_col2\" class=\"data row3 col2\" >2</td>\n",
              "            </tr>\n",
              "            <tr>\n",
              "                        <th id=\"T_12ded0ac_0a9e_11ec_ae72_0242ac1c0002level0_row4\" class=\"row_heading level0 row4\" >1</th>\n",
              "                        <td id=\"T_12ded0ac_0a9e_11ec_ae72_0242ac1c0002row4_col0\" class=\"data row4 col0\" >BB McCullum</td>\n",
              "                        <td id=\"T_12ded0ac_0a9e_11ec_ae72_0242ac1c0002row4_col1\" class=\"data row4 col1\" >New Zealand</td>\n",
              "                        <td id=\"T_12ded0ac_0a9e_11ec_ae72_0242ac1c0002row4_col2\" class=\"data row4 col2\" >2</td>\n",
              "            </tr>\n",
              "    </tbody></table>"
            ],
            "text/plain": [
              "<pandas.io.formats.style.Styler at 0x7ff9de70ac90>"
            ]
          },
          "metadata": {},
          "execution_count": 118
        }
      ]
    },
    {
      "cell_type": "code",
      "metadata": {
        "colab": {
          "base_uri": "https://localhost:8080/",
          "height": 145
        },
        "id": "TlJWrcFNI5cq",
        "outputId": "15eb39ac-9c02-467e-9a84-ef625d8ad4d3"
      },
      "source": [
        "df[['Player_Name' , 'Country' , 'half_centuries' ]].sort_values(by='half_centuries' , ascending=False).head(5).style.background_gradient(cmap='Set2')"
      ],
      "execution_count": 119,
      "outputs": [
        {
          "output_type": "execute_result",
          "data": {
            "text/html": [
              "<style  type=\"text/css\" >\n",
              "#T_12e2f47a_0a9e_11ec_ae72_0242ac1c0002row0_col2{\n",
              "            background-color:  #b3b3b3;\n",
              "            color:  #000000;\n",
              "        }#T_12e2f47a_0a9e_11ec_ae72_0242ac1c0002row1_col2{\n",
              "            background-color:  #e5c494;\n",
              "            color:  #000000;\n",
              "        }#T_12e2f47a_0a9e_11ec_ae72_0242ac1c0002row2_col2{\n",
              "            background-color:  #e78ac3;\n",
              "            color:  #000000;\n",
              "        }#T_12e2f47a_0a9e_11ec_ae72_0242ac1c0002row3_col2{\n",
              "            background-color:  #fc8d62;\n",
              "            color:  #000000;\n",
              "        }#T_12e2f47a_0a9e_11ec_ae72_0242ac1c0002row4_col2{\n",
              "            background-color:  #66c2a5;\n",
              "            color:  #000000;\n",
              "        }</style><table id=\"T_12e2f47a_0a9e_11ec_ae72_0242ac1c0002\" ><thead>    <tr>        <th class=\"blank level0\" ></th>        <th class=\"col_heading level0 col0\" >Player_Name</th>        <th class=\"col_heading level0 col1\" >Country</th>        <th class=\"col_heading level0 col2\" >half_centuries</th>    </tr></thead><tbody>\n",
              "                <tr>\n",
              "                        <th id=\"T_12e2f47a_0a9e_11ec_ae72_0242ac1c0002level0_row0\" class=\"row_heading level0 row0\" >186</th>\n",
              "                        <td id=\"T_12e2f47a_0a9e_11ec_ae72_0242ac1c0002row0_col0\" class=\"data row0 col0\" >DA Warner</td>\n",
              "                        <td id=\"T_12e2f47a_0a9e_11ec_ae72_0242ac1c0002row0_col1\" class=\"data row0 col1\" >Australia</td>\n",
              "                        <td id=\"T_12e2f47a_0a9e_11ec_ae72_0242ac1c0002row0_col2\" class=\"data row0 col2\" >32</td>\n",
              "            </tr>\n",
              "            <tr>\n",
              "                        <th id=\"T_12e2f47a_0a9e_11ec_ae72_0242ac1c0002level0_row1\" class=\"row_heading level0 row1\" >39</th>\n",
              "                        <td id=\"T_12e2f47a_0a9e_11ec_ae72_0242ac1c0002row1_col0\" class=\"data row1 col0\" >G Gambhir</td>\n",
              "                        <td id=\"T_12e2f47a_0a9e_11ec_ae72_0242ac1c0002row1_col1\" class=\"data row1 col1\" >India</td>\n",
              "                        <td id=\"T_12e2f47a_0a9e_11ec_ae72_0242ac1c0002row1_col2\" class=\"data row1 col2\" >31</td>\n",
              "            </tr>\n",
              "            <tr>\n",
              "                        <th id=\"T_12e2f47a_0a9e_11ec_ae72_0242ac1c0002level0_row2\" class=\"row_heading level0 row2\" >56</th>\n",
              "                        <td id=\"T_12e2f47a_0a9e_11ec_ae72_0242ac1c0002row2_col0\" class=\"data row2 col0\" >RG Sharma</td>\n",
              "                        <td id=\"T_12e2f47a_0a9e_11ec_ae72_0242ac1c0002row2_col1\" class=\"data row2 col1\" >India</td>\n",
              "                        <td id=\"T_12e2f47a_0a9e_11ec_ae72_0242ac1c0002row2_col2\" class=\"data row2 col2\" >29</td>\n",
              "            </tr>\n",
              "            <tr>\n",
              "                        <th id=\"T_12e2f47a_0a9e_11ec_ae72_0242ac1c0002level0_row3\" class=\"row_heading level0 row3\" >20</th>\n",
              "                        <td id=\"T_12e2f47a_0a9e_11ec_ae72_0242ac1c0002row3_col0\" class=\"data row3 col0\" >SK Raina</td>\n",
              "                        <td id=\"T_12e2f47a_0a9e_11ec_ae72_0242ac1c0002row3_col1\" class=\"data row3 col1\" >India</td>\n",
              "                        <td id=\"T_12e2f47a_0a9e_11ec_ae72_0242ac1c0002row3_col2\" class=\"data row3 col2\" >28</td>\n",
              "            </tr>\n",
              "            <tr>\n",
              "                        <th id=\"T_12e2f47a_0a9e_11ec_ae72_0242ac1c0002level0_row4\" class=\"row_heading level0 row4\" >7</th>\n",
              "                        <td id=\"T_12e2f47a_0a9e_11ec_ae72_0242ac1c0002row4_col0\" class=\"data row4 col0\" >V Kohli</td>\n",
              "                        <td id=\"T_12e2f47a_0a9e_11ec_ae72_0242ac1c0002row4_col1\" class=\"data row4 col1\" >India</td>\n",
              "                        <td id=\"T_12e2f47a_0a9e_11ec_ae72_0242ac1c0002row4_col2\" class=\"data row4 col2\" >27</td>\n",
              "            </tr>\n",
              "    </tbody></table>"
            ],
            "text/plain": [
              "<pandas.io.formats.style.Styler at 0x7ff9de713110>"
            ]
          },
          "metadata": {},
          "execution_count": 119
        }
      ]
    },
    {
      "cell_type": "code",
      "metadata": {
        "id": "1x1lhOjGKlgi",
        "colab": {
          "base_uri": "https://localhost:8080/"
        },
        "outputId": "5f79b83d-b8a5-4e62-c771-f4be766fa2c6"
      },
      "source": [
        "categorical_data = [ data for data in df.columns if df[data].dtypes=='O']\n",
        "print(categorical_data)\n",
        "print(f'numbers of categotical values : {len(categorical_data)}')"
      ],
      "execution_count": 120,
      "outputs": [
        {
          "output_type": "stream",
          "name": "stdout",
          "text": [
            "['Player_Name', 'Batting_Hand', 'Bowling_Skill', 'Country']\n",
            "numbers of categotical values : 4\n"
          ]
        }
      ]
    },
    {
      "cell_type": "code",
      "metadata": {
        "colab": {
          "base_uri": "https://localhost:8080/",
          "height": 173
        },
        "id": "o0ctt_VCYM4x",
        "outputId": "02141c26-a1de-4ec4-b558-5d5b87951909"
      },
      "source": [
        "df[categorical_data].head(4)"
      ],
      "execution_count": 121,
      "outputs": [
        {
          "output_type": "execute_result",
          "data": {
            "text/html": [
              "<div>\n",
              "<style scoped>\n",
              "    .dataframe tbody tr th:only-of-type {\n",
              "        vertical-align: middle;\n",
              "    }\n",
              "\n",
              "    .dataframe tbody tr th {\n",
              "        vertical-align: top;\n",
              "    }\n",
              "\n",
              "    .dataframe thead th {\n",
              "        text-align: right;\n",
              "    }\n",
              "</style>\n",
              "<table border=\"1\" class=\"dataframe\">\n",
              "  <thead>\n",
              "    <tr style=\"text-align: right;\">\n",
              "      <th></th>\n",
              "      <th>Player_Name</th>\n",
              "      <th>Batting_Hand</th>\n",
              "      <th>Bowling_Skill</th>\n",
              "      <th>Country</th>\n",
              "    </tr>\n",
              "  </thead>\n",
              "  <tbody>\n",
              "    <tr>\n",
              "      <th>0</th>\n",
              "      <td>SC Ganguly</td>\n",
              "      <td>Left_Hand</td>\n",
              "      <td>Right-arm medium</td>\n",
              "      <td>India</td>\n",
              "    </tr>\n",
              "    <tr>\n",
              "      <th>1</th>\n",
              "      <td>BB McCullum</td>\n",
              "      <td>Right_Hand</td>\n",
              "      <td>Right-arm medium</td>\n",
              "      <td>New Zealand</td>\n",
              "    </tr>\n",
              "    <tr>\n",
              "      <th>2</th>\n",
              "      <td>RT Ponting</td>\n",
              "      <td>Right_Hand</td>\n",
              "      <td>Right-arm medium</td>\n",
              "      <td>Australia</td>\n",
              "    </tr>\n",
              "    <tr>\n",
              "      <th>3</th>\n",
              "      <td>DJ Hussey</td>\n",
              "      <td>Right_Hand</td>\n",
              "      <td>Right-arm offbreak</td>\n",
              "      <td>Australia</td>\n",
              "    </tr>\n",
              "  </tbody>\n",
              "</table>\n",
              "</div>"
            ],
            "text/plain": [
              "   Player_Name Batting_Hand       Bowling_Skill      Country\n",
              "0   SC Ganguly    Left_Hand    Right-arm medium        India\n",
              "1  BB McCullum   Right_Hand    Right-arm medium  New Zealand\n",
              "2   RT Ponting   Right_Hand    Right-arm medium    Australia\n",
              "3    DJ Hussey   Right_Hand  Right-arm offbreak    Australia"
            ]
          },
          "metadata": {},
          "execution_count": 121
        }
      ]
    },
    {
      "cell_type": "code",
      "metadata": {
        "colab": {
          "base_uri": "https://localhost:8080/"
        },
        "id": "vV1brb9mYWRI",
        "outputId": "c6f271be-64aa-4e32-b8cc-80ff732eda22"
      },
      "source": [
        "df.dtypes.value_counts()"
      ],
      "execution_count": 122,
      "outputs": [
        {
          "output_type": "execute_result",
          "data": {
            "text/plain": [
              "int64      20\n",
              "object      4\n",
              "float64     2\n",
              "dtype: int64"
            ]
          },
          "metadata": {},
          "execution_count": 122
        }
      ]
    },
    {
      "cell_type": "code",
      "metadata": {
        "colab": {
          "base_uri": "https://localhost:8080/",
          "height": 247
        },
        "id": "S0bNfympZXvQ",
        "outputId": "3718a268-b905-4b3a-80f0-cee3fb76a155"
      },
      "source": [
        "numerical_data = [ data for data in df.columns if df[data].dtypes !='O']\n",
        "print(numerical_data)\n",
        "print(f'numbers of numerical values : {len(categorical_data)}')\n",
        "print('')\n",
        "print('')\n",
        "df[numerical_data].head(3)"
      ],
      "execution_count": 123,
      "outputs": [
        {
          "output_type": "stream",
          "name": "stdout",
          "text": [
            "['Unnamed: 0', 'Player_Id', 'total_matches', 'total_runs', 'centuries', 'half_centuries', 'total_fours', 'total_sixes', 'total_dotballs', 'total_balls_faced', 'total_ducks', 'best_score', 'total_outs', 'total_overs_bowled', 'total_wickets', 'total_runs_given', 'highest_runs_given', 'total_orangecaps', 'total_purplecaps', 'total_player_of_series', 'batting_average', 'strike_rate']\n",
            "numbers of numerical values : 4\n",
            "\n",
            "\n"
          ]
        },
        {
          "output_type": "execute_result",
          "data": {
            "text/html": [
              "<div>\n",
              "<style scoped>\n",
              "    .dataframe tbody tr th:only-of-type {\n",
              "        vertical-align: middle;\n",
              "    }\n",
              "\n",
              "    .dataframe tbody tr th {\n",
              "        vertical-align: top;\n",
              "    }\n",
              "\n",
              "    .dataframe thead th {\n",
              "        text-align: right;\n",
              "    }\n",
              "</style>\n",
              "<table border=\"1\" class=\"dataframe\">\n",
              "  <thead>\n",
              "    <tr style=\"text-align: right;\">\n",
              "      <th></th>\n",
              "      <th>Unnamed: 0</th>\n",
              "      <th>Player_Id</th>\n",
              "      <th>total_matches</th>\n",
              "      <th>total_runs</th>\n",
              "      <th>centuries</th>\n",
              "      <th>half_centuries</th>\n",
              "      <th>total_fours</th>\n",
              "      <th>total_sixes</th>\n",
              "      <th>total_dotballs</th>\n",
              "      <th>total_balls_faced</th>\n",
              "      <th>total_ducks</th>\n",
              "      <th>best_score</th>\n",
              "      <th>total_outs</th>\n",
              "      <th>total_overs_bowled</th>\n",
              "      <th>total_wickets</th>\n",
              "      <th>total_runs_given</th>\n",
              "      <th>highest_runs_given</th>\n",
              "      <th>total_orangecaps</th>\n",
              "      <th>total_purplecaps</th>\n",
              "      <th>total_player_of_series</th>\n",
              "      <th>batting_average</th>\n",
              "      <th>strike_rate</th>\n",
              "    </tr>\n",
              "  </thead>\n",
              "  <tbody>\n",
              "    <tr>\n",
              "      <th>0</th>\n",
              "      <td>0</td>\n",
              "      <td>1</td>\n",
              "      <td>59</td>\n",
              "      <td>1349</td>\n",
              "      <td>0</td>\n",
              "      <td>7</td>\n",
              "      <td>137</td>\n",
              "      <td>42</td>\n",
              "      <td>662</td>\n",
              "      <td>1326</td>\n",
              "      <td>7</td>\n",
              "      <td>91</td>\n",
              "      <td>38</td>\n",
              "      <td>46</td>\n",
              "      <td>8</td>\n",
              "      <td>359</td>\n",
              "      <td>39</td>\n",
              "      <td>0</td>\n",
              "      <td>0</td>\n",
              "      <td>0</td>\n",
              "      <td>35.500000</td>\n",
              "      <td>101.734540</td>\n",
              "    </tr>\n",
              "    <tr>\n",
              "      <th>1</th>\n",
              "      <td>1</td>\n",
              "      <td>2</td>\n",
              "      <td>92</td>\n",
              "      <td>2435</td>\n",
              "      <td>2</td>\n",
              "      <td>11</td>\n",
              "      <td>248</td>\n",
              "      <td>106</td>\n",
              "      <td>893</td>\n",
              "      <td>1954</td>\n",
              "      <td>5</td>\n",
              "      <td>158</td>\n",
              "      <td>76</td>\n",
              "      <td>0</td>\n",
              "      <td>0</td>\n",
              "      <td>0</td>\n",
              "      <td>0</td>\n",
              "      <td>0</td>\n",
              "      <td>0</td>\n",
              "      <td>0</td>\n",
              "      <td>32.039474</td>\n",
              "      <td>124.616172</td>\n",
              "    </tr>\n",
              "    <tr>\n",
              "      <th>2</th>\n",
              "      <td>2</td>\n",
              "      <td>3</td>\n",
              "      <td>10</td>\n",
              "      <td>91</td>\n",
              "      <td>0</td>\n",
              "      <td>0</td>\n",
              "      <td>5</td>\n",
              "      <td>2</td>\n",
              "      <td>69</td>\n",
              "      <td>129</td>\n",
              "      <td>4</td>\n",
              "      <td>28</td>\n",
              "      <td>4</td>\n",
              "      <td>0</td>\n",
              "      <td>0</td>\n",
              "      <td>0</td>\n",
              "      <td>0</td>\n",
              "      <td>0</td>\n",
              "      <td>0</td>\n",
              "      <td>0</td>\n",
              "      <td>22.750000</td>\n",
              "      <td>70.542636</td>\n",
              "    </tr>\n",
              "  </tbody>\n",
              "</table>\n",
              "</div>"
            ],
            "text/plain": [
              "   Unnamed: 0  Player_Id  ...  batting_average  strike_rate\n",
              "0           0          1  ...        35.500000   101.734540\n",
              "1           1          2  ...        32.039474   124.616172\n",
              "2           2          3  ...        22.750000    70.542636\n",
              "\n",
              "[3 rows x 22 columns]"
            ]
          },
          "metadata": {},
          "execution_count": 123
        }
      ]
    },
    {
      "cell_type": "code",
      "metadata": {
        "colab": {
          "base_uri": "https://localhost:8080/"
        },
        "id": "9gFvXNDXZmxo",
        "outputId": "4e862f92-3b1c-4b19-c182-648e4645b2a2"
      },
      "source": [
        "df['total_runs'].dtypes"
      ],
      "execution_count": 124,
      "outputs": [
        {
          "output_type": "execute_result",
          "data": {
            "text/plain": [
              "dtype('int64')"
            ]
          },
          "metadata": {},
          "execution_count": 124
        }
      ]
    },
    {
      "cell_type": "code",
      "metadata": {
        "colab": {
          "base_uri": "https://localhost:8080/",
          "height": 768
        },
        "id": "UZUBpgu4bGb5",
        "outputId": "5d44a923-2bb2-4871-84e6-a3bfc54d040c"
      },
      "source": [
        "df.corr()"
      ],
      "execution_count": 125,
      "outputs": [
        {
          "output_type": "execute_result",
          "data": {
            "text/html": [
              "<div>\n",
              "<style scoped>\n",
              "    .dataframe tbody tr th:only-of-type {\n",
              "        vertical-align: middle;\n",
              "    }\n",
              "\n",
              "    .dataframe tbody tr th {\n",
              "        vertical-align: top;\n",
              "    }\n",
              "\n",
              "    .dataframe thead th {\n",
              "        text-align: right;\n",
              "    }\n",
              "</style>\n",
              "<table border=\"1\" class=\"dataframe\">\n",
              "  <thead>\n",
              "    <tr style=\"text-align: right;\">\n",
              "      <th></th>\n",
              "      <th>Unnamed: 0</th>\n",
              "      <th>Player_Id</th>\n",
              "      <th>total_matches</th>\n",
              "      <th>total_runs</th>\n",
              "      <th>centuries</th>\n",
              "      <th>half_centuries</th>\n",
              "      <th>total_fours</th>\n",
              "      <th>total_sixes</th>\n",
              "      <th>total_dotballs</th>\n",
              "      <th>total_balls_faced</th>\n",
              "      <th>total_ducks</th>\n",
              "      <th>best_score</th>\n",
              "      <th>total_outs</th>\n",
              "      <th>total_overs_bowled</th>\n",
              "      <th>total_wickets</th>\n",
              "      <th>total_runs_given</th>\n",
              "      <th>highest_runs_given</th>\n",
              "      <th>total_orangecaps</th>\n",
              "      <th>total_purplecaps</th>\n",
              "      <th>total_player_of_series</th>\n",
              "      <th>batting_average</th>\n",
              "      <th>strike_rate</th>\n",
              "    </tr>\n",
              "  </thead>\n",
              "  <tbody>\n",
              "    <tr>\n",
              "      <th>Unnamed: 0</th>\n",
              "      <td>1.000000</td>\n",
              "      <td>1.000000</td>\n",
              "      <td>-0.526391</td>\n",
              "      <td>-0.414801</td>\n",
              "      <td>-0.196126</td>\n",
              "      <td>-0.340059</td>\n",
              "      <td>-0.410499</td>\n",
              "      <td>-0.353177</td>\n",
              "      <td>-0.442715</td>\n",
              "      <td>-0.431917</td>\n",
              "      <td>-0.306994</td>\n",
              "      <td>-0.464241</td>\n",
              "      <td>-0.474187</td>\n",
              "      <td>-0.289390</td>\n",
              "      <td>-0.268257</td>\n",
              "      <td>-0.290209</td>\n",
              "      <td>-0.158173</td>\n",
              "      <td>-0.133943</td>\n",
              "      <td>-0.076954</td>\n",
              "      <td>-0.086540</td>\n",
              "      <td>-0.362245</td>\n",
              "      <td>-0.516707</td>\n",
              "    </tr>\n",
              "    <tr>\n",
              "      <th>Player_Id</th>\n",
              "      <td>1.000000</td>\n",
              "      <td>1.000000</td>\n",
              "      <td>-0.526388</td>\n",
              "      <td>-0.414795</td>\n",
              "      <td>-0.196123</td>\n",
              "      <td>-0.340053</td>\n",
              "      <td>-0.410493</td>\n",
              "      <td>-0.353172</td>\n",
              "      <td>-0.442708</td>\n",
              "      <td>-0.431911</td>\n",
              "      <td>-0.306996</td>\n",
              "      <td>-0.464244</td>\n",
              "      <td>-0.474181</td>\n",
              "      <td>-0.289391</td>\n",
              "      <td>-0.268258</td>\n",
              "      <td>-0.290211</td>\n",
              "      <td>-0.158195</td>\n",
              "      <td>-0.133941</td>\n",
              "      <td>-0.076953</td>\n",
              "      <td>-0.086539</td>\n",
              "      <td>-0.362253</td>\n",
              "      <td>-0.516726</td>\n",
              "    </tr>\n",
              "    <tr>\n",
              "      <th>total_matches</th>\n",
              "      <td>-0.526391</td>\n",
              "      <td>-0.526388</td>\n",
              "      <td>1.000000</td>\n",
              "      <td>0.788300</td>\n",
              "      <td>0.401264</td>\n",
              "      <td>0.673771</td>\n",
              "      <td>0.757126</td>\n",
              "      <td>0.717544</td>\n",
              "      <td>0.788008</td>\n",
              "      <td>0.795860</td>\n",
              "      <td>0.635095</td>\n",
              "      <td>0.612629</td>\n",
              "      <td>0.849058</td>\n",
              "      <td>0.608399</td>\n",
              "      <td>0.574240</td>\n",
              "      <td>0.607162</td>\n",
              "      <td>0.221643</td>\n",
              "      <td>0.236776</td>\n",
              "      <td>0.200898</td>\n",
              "      <td>0.208407</td>\n",
              "      <td>0.432322</td>\n",
              "      <td>0.395203</td>\n",
              "    </tr>\n",
              "    <tr>\n",
              "      <th>total_runs</th>\n",
              "      <td>-0.414801</td>\n",
              "      <td>-0.414795</td>\n",
              "      <td>0.788300</td>\n",
              "      <td>1.000000</td>\n",
              "      <td>0.635953</td>\n",
              "      <td>0.950602</td>\n",
              "      <td>0.982324</td>\n",
              "      <td>0.919816</td>\n",
              "      <td>0.983760</td>\n",
              "      <td>0.995314</td>\n",
              "      <td>0.063568</td>\n",
              "      <td>0.769078</td>\n",
              "      <td>0.965071</td>\n",
              "      <td>0.085705</td>\n",
              "      <td>0.061651</td>\n",
              "      <td>0.088812</td>\n",
              "      <td>-0.078822</td>\n",
              "      <td>0.435901</td>\n",
              "      <td>0.003756</td>\n",
              "      <td>0.304266</td>\n",
              "      <td>0.526071</td>\n",
              "      <td>0.366480</td>\n",
              "    </tr>\n",
              "    <tr>\n",
              "      <th>centuries</th>\n",
              "      <td>-0.196126</td>\n",
              "      <td>-0.196123</td>\n",
              "      <td>0.401264</td>\n",
              "      <td>0.635953</td>\n",
              "      <td>1.000000</td>\n",
              "      <td>0.629893</td>\n",
              "      <td>0.618354</td>\n",
              "      <td>0.723635</td>\n",
              "      <td>0.599447</td>\n",
              "      <td>0.596577</td>\n",
              "      <td>-0.019187</td>\n",
              "      <td>0.541550</td>\n",
              "      <td>0.544731</td>\n",
              "      <td>0.004238</td>\n",
              "      <td>-0.002078</td>\n",
              "      <td>0.003648</td>\n",
              "      <td>-0.028132</td>\n",
              "      <td>0.589536</td>\n",
              "      <td>-0.023313</td>\n",
              "      <td>0.492770</td>\n",
              "      <td>0.296146</td>\n",
              "      <td>0.189102</td>\n",
              "    </tr>\n",
              "    <tr>\n",
              "      <th>half_centuries</th>\n",
              "      <td>-0.340059</td>\n",
              "      <td>-0.340053</td>\n",
              "      <td>0.673771</td>\n",
              "      <td>0.950602</td>\n",
              "      <td>0.629893</td>\n",
              "      <td>1.000000</td>\n",
              "      <td>0.952520</td>\n",
              "      <td>0.852790</td>\n",
              "      <td>0.928893</td>\n",
              "      <td>0.943044</td>\n",
              "      <td>0.001271</td>\n",
              "      <td>0.689797</td>\n",
              "      <td>0.879060</td>\n",
              "      <td>0.001175</td>\n",
              "      <td>-0.016817</td>\n",
              "      <td>0.003008</td>\n",
              "      <td>-0.101688</td>\n",
              "      <td>0.468209</td>\n",
              "      <td>-0.017857</td>\n",
              "      <td>0.281489</td>\n",
              "      <td>0.462456</td>\n",
              "      <td>0.291570</td>\n",
              "    </tr>\n",
              "    <tr>\n",
              "      <th>total_fours</th>\n",
              "      <td>-0.410499</td>\n",
              "      <td>-0.410493</td>\n",
              "      <td>0.757126</td>\n",
              "      <td>0.982324</td>\n",
              "      <td>0.618354</td>\n",
              "      <td>0.952520</td>\n",
              "      <td>1.000000</td>\n",
              "      <td>0.855276</td>\n",
              "      <td>0.982693</td>\n",
              "      <td>0.983855</td>\n",
              "      <td>0.046974</td>\n",
              "      <td>0.759982</td>\n",
              "      <td>0.950792</td>\n",
              "      <td>0.049236</td>\n",
              "      <td>0.029086</td>\n",
              "      <td>0.051043</td>\n",
              "      <td>-0.108198</td>\n",
              "      <td>0.436512</td>\n",
              "      <td>-0.004046</td>\n",
              "      <td>0.307324</td>\n",
              "      <td>0.507886</td>\n",
              "      <td>0.350461</td>\n",
              "    </tr>\n",
              "    <tr>\n",
              "      <th>total_sixes</th>\n",
              "      <td>-0.353177</td>\n",
              "      <td>-0.353172</td>\n",
              "      <td>0.717544</td>\n",
              "      <td>0.919816</td>\n",
              "      <td>0.723635</td>\n",
              "      <td>0.852790</td>\n",
              "      <td>0.855276</td>\n",
              "      <td>1.000000</td>\n",
              "      <td>0.879288</td>\n",
              "      <td>0.888347</td>\n",
              "      <td>0.050507</td>\n",
              "      <td>0.725474</td>\n",
              "      <td>0.881481</td>\n",
              "      <td>0.124676</td>\n",
              "      <td>0.103021</td>\n",
              "      <td>0.130180</td>\n",
              "      <td>-0.014548</td>\n",
              "      <td>0.483593</td>\n",
              "      <td>0.006347</td>\n",
              "      <td>0.371012</td>\n",
              "      <td>0.474585</td>\n",
              "      <td>0.356780</td>\n",
              "    </tr>\n",
              "    <tr>\n",
              "      <th>total_dotballs</th>\n",
              "      <td>-0.442715</td>\n",
              "      <td>-0.442708</td>\n",
              "      <td>0.788008</td>\n",
              "      <td>0.983760</td>\n",
              "      <td>0.599447</td>\n",
              "      <td>0.928893</td>\n",
              "      <td>0.982693</td>\n",
              "      <td>0.879288</td>\n",
              "      <td>1.000000</td>\n",
              "      <td>0.992766</td>\n",
              "      <td>0.074244</td>\n",
              "      <td>0.781124</td>\n",
              "      <td>0.967515</td>\n",
              "      <td>0.092388</td>\n",
              "      <td>0.067312</td>\n",
              "      <td>0.095006</td>\n",
              "      <td>-0.087107</td>\n",
              "      <td>0.430533</td>\n",
              "      <td>0.009273</td>\n",
              "      <td>0.301327</td>\n",
              "      <td>0.526403</td>\n",
              "      <td>0.361588</td>\n",
              "    </tr>\n",
              "    <tr>\n",
              "      <th>total_balls_faced</th>\n",
              "      <td>-0.431917</td>\n",
              "      <td>-0.431911</td>\n",
              "      <td>0.795860</td>\n",
              "      <td>0.995314</td>\n",
              "      <td>0.596577</td>\n",
              "      <td>0.943044</td>\n",
              "      <td>0.983855</td>\n",
              "      <td>0.888347</td>\n",
              "      <td>0.992766</td>\n",
              "      <td>1.000000</td>\n",
              "      <td>0.074128</td>\n",
              "      <td>0.769799</td>\n",
              "      <td>0.968004</td>\n",
              "      <td>0.089850</td>\n",
              "      <td>0.064093</td>\n",
              "      <td>0.092552</td>\n",
              "      <td>-0.084319</td>\n",
              "      <td>0.416610</td>\n",
              "      <td>0.006614</td>\n",
              "      <td>0.283628</td>\n",
              "      <td>0.531361</td>\n",
              "      <td>0.362983</td>\n",
              "    </tr>\n",
              "    <tr>\n",
              "      <th>total_ducks</th>\n",
              "      <td>-0.306994</td>\n",
              "      <td>-0.306996</td>\n",
              "      <td>0.635095</td>\n",
              "      <td>0.063568</td>\n",
              "      <td>-0.019187</td>\n",
              "      <td>0.001271</td>\n",
              "      <td>0.046974</td>\n",
              "      <td>0.050507</td>\n",
              "      <td>0.074244</td>\n",
              "      <td>0.074128</td>\n",
              "      <td>1.000000</td>\n",
              "      <td>0.011798</td>\n",
              "      <td>0.159571</td>\n",
              "      <td>0.879078</td>\n",
              "      <td>0.859391</td>\n",
              "      <td>0.870557</td>\n",
              "      <td>0.485091</td>\n",
              "      <td>-0.032714</td>\n",
              "      <td>0.317098</td>\n",
              "      <td>0.021860</td>\n",
              "      <td>0.017570</td>\n",
              "      <td>0.127576</td>\n",
              "    </tr>\n",
              "    <tr>\n",
              "      <th>best_score</th>\n",
              "      <td>-0.464241</td>\n",
              "      <td>-0.464244</td>\n",
              "      <td>0.612629</td>\n",
              "      <td>0.769078</td>\n",
              "      <td>0.541550</td>\n",
              "      <td>0.689797</td>\n",
              "      <td>0.759982</td>\n",
              "      <td>0.725474</td>\n",
              "      <td>0.781124</td>\n",
              "      <td>0.769799</td>\n",
              "      <td>0.011798</td>\n",
              "      <td>1.000000</td>\n",
              "      <td>0.778930</td>\n",
              "      <td>0.042012</td>\n",
              "      <td>0.024961</td>\n",
              "      <td>0.044888</td>\n",
              "      <td>-0.129266</td>\n",
              "      <td>0.323599</td>\n",
              "      <td>-0.008703</td>\n",
              "      <td>0.243333</td>\n",
              "      <td>0.745405</td>\n",
              "      <td>0.640629</td>\n",
              "    </tr>\n",
              "    <tr>\n",
              "      <th>total_outs</th>\n",
              "      <td>-0.474187</td>\n",
              "      <td>-0.474181</td>\n",
              "      <td>0.849058</td>\n",
              "      <td>0.965071</td>\n",
              "      <td>0.544731</td>\n",
              "      <td>0.879060</td>\n",
              "      <td>0.950792</td>\n",
              "      <td>0.881481</td>\n",
              "      <td>0.967515</td>\n",
              "      <td>0.968004</td>\n",
              "      <td>0.159571</td>\n",
              "      <td>0.778930</td>\n",
              "      <td>1.000000</td>\n",
              "      <td>0.182798</td>\n",
              "      <td>0.157962</td>\n",
              "      <td>0.185349</td>\n",
              "      <td>-0.049393</td>\n",
              "      <td>0.329736</td>\n",
              "      <td>0.039386</td>\n",
              "      <td>0.269366</td>\n",
              "      <td>0.490315</td>\n",
              "      <td>0.408810</td>\n",
              "    </tr>\n",
              "    <tr>\n",
              "      <th>total_overs_bowled</th>\n",
              "      <td>-0.289390</td>\n",
              "      <td>-0.289391</td>\n",
              "      <td>0.608399</td>\n",
              "      <td>0.085705</td>\n",
              "      <td>0.004238</td>\n",
              "      <td>0.001175</td>\n",
              "      <td>0.049236</td>\n",
              "      <td>0.124676</td>\n",
              "      <td>0.092388</td>\n",
              "      <td>0.089850</td>\n",
              "      <td>0.879078</td>\n",
              "      <td>0.042012</td>\n",
              "      <td>0.182798</td>\n",
              "      <td>1.000000</td>\n",
              "      <td>0.967495</td>\n",
              "      <td>0.995978</td>\n",
              "      <td>0.590384</td>\n",
              "      <td>-0.024884</td>\n",
              "      <td>0.354458</td>\n",
              "      <td>0.123898</td>\n",
              "      <td>0.041368</td>\n",
              "      <td>0.160217</td>\n",
              "    </tr>\n",
              "    <tr>\n",
              "      <th>total_wickets</th>\n",
              "      <td>-0.268257</td>\n",
              "      <td>-0.268258</td>\n",
              "      <td>0.574240</td>\n",
              "      <td>0.061651</td>\n",
              "      <td>-0.002078</td>\n",
              "      <td>-0.016817</td>\n",
              "      <td>0.029086</td>\n",
              "      <td>0.103021</td>\n",
              "      <td>0.067312</td>\n",
              "      <td>0.064093</td>\n",
              "      <td>0.859391</td>\n",
              "      <td>0.024961</td>\n",
              "      <td>0.157962</td>\n",
              "      <td>0.967495</td>\n",
              "      <td>1.000000</td>\n",
              "      <td>0.962220</td>\n",
              "      <td>0.572801</td>\n",
              "      <td>-0.032418</td>\n",
              "      <td>0.425266</td>\n",
              "      <td>0.120625</td>\n",
              "      <td>0.018359</td>\n",
              "      <td>0.150037</td>\n",
              "    </tr>\n",
              "    <tr>\n",
              "      <th>total_runs_given</th>\n",
              "      <td>-0.290209</td>\n",
              "      <td>-0.290211</td>\n",
              "      <td>0.607162</td>\n",
              "      <td>0.088812</td>\n",
              "      <td>0.003648</td>\n",
              "      <td>0.003008</td>\n",
              "      <td>0.051043</td>\n",
              "      <td>0.130180</td>\n",
              "      <td>0.095006</td>\n",
              "      <td>0.092552</td>\n",
              "      <td>0.870557</td>\n",
              "      <td>0.044888</td>\n",
              "      <td>0.185349</td>\n",
              "      <td>0.995978</td>\n",
              "      <td>0.962220</td>\n",
              "      <td>1.000000</td>\n",
              "      <td>0.611184</td>\n",
              "      <td>-0.025359</td>\n",
              "      <td>0.350392</td>\n",
              "      <td>0.120763</td>\n",
              "      <td>0.045377</td>\n",
              "      <td>0.166325</td>\n",
              "    </tr>\n",
              "    <tr>\n",
              "      <th>highest_runs_given</th>\n",
              "      <td>-0.158173</td>\n",
              "      <td>-0.158195</td>\n",
              "      <td>0.221643</td>\n",
              "      <td>-0.078822</td>\n",
              "      <td>-0.028132</td>\n",
              "      <td>-0.101688</td>\n",
              "      <td>-0.108198</td>\n",
              "      <td>-0.014548</td>\n",
              "      <td>-0.087107</td>\n",
              "      <td>-0.084319</td>\n",
              "      <td>0.485091</td>\n",
              "      <td>-0.129266</td>\n",
              "      <td>-0.049393</td>\n",
              "      <td>0.590384</td>\n",
              "      <td>0.572801</td>\n",
              "      <td>0.611184</td>\n",
              "      <td>1.000000</td>\n",
              "      <td>-0.051483</td>\n",
              "      <td>0.139031</td>\n",
              "      <td>0.087541</td>\n",
              "      <td>-0.069662</td>\n",
              "      <td>0.120242</td>\n",
              "    </tr>\n",
              "    <tr>\n",
              "      <th>total_orangecaps</th>\n",
              "      <td>-0.133943</td>\n",
              "      <td>-0.133941</td>\n",
              "      <td>0.236776</td>\n",
              "      <td>0.435901</td>\n",
              "      <td>0.589536</td>\n",
              "      <td>0.468209</td>\n",
              "      <td>0.436512</td>\n",
              "      <td>0.483593</td>\n",
              "      <td>0.430533</td>\n",
              "      <td>0.416610</td>\n",
              "      <td>-0.032714</td>\n",
              "      <td>0.323599</td>\n",
              "      <td>0.329736</td>\n",
              "      <td>-0.024884</td>\n",
              "      <td>-0.032418</td>\n",
              "      <td>-0.025359</td>\n",
              "      <td>-0.051483</td>\n",
              "      <td>1.000000</td>\n",
              "      <td>-0.014281</td>\n",
              "      <td>0.354549</td>\n",
              "      <td>0.216977</td>\n",
              "      <td>0.112083</td>\n",
              "    </tr>\n",
              "    <tr>\n",
              "      <th>total_purplecaps</th>\n",
              "      <td>-0.076954</td>\n",
              "      <td>-0.076953</td>\n",
              "      <td>0.200898</td>\n",
              "      <td>0.003756</td>\n",
              "      <td>-0.023313</td>\n",
              "      <td>-0.017857</td>\n",
              "      <td>-0.004046</td>\n",
              "      <td>0.006347</td>\n",
              "      <td>0.009273</td>\n",
              "      <td>0.006614</td>\n",
              "      <td>0.317098</td>\n",
              "      <td>-0.008703</td>\n",
              "      <td>0.039386</td>\n",
              "      <td>0.354458</td>\n",
              "      <td>0.425266</td>\n",
              "      <td>0.350392</td>\n",
              "      <td>0.139031</td>\n",
              "      <td>-0.014281</td>\n",
              "      <td>1.000000</td>\n",
              "      <td>-0.014281</td>\n",
              "      <td>-0.013024</td>\n",
              "      <td>0.037567</td>\n",
              "    </tr>\n",
              "    <tr>\n",
              "      <th>total_player_of_series</th>\n",
              "      <td>-0.086540</td>\n",
              "      <td>-0.086539</td>\n",
              "      <td>0.208407</td>\n",
              "      <td>0.304266</td>\n",
              "      <td>0.492770</td>\n",
              "      <td>0.281489</td>\n",
              "      <td>0.307324</td>\n",
              "      <td>0.371012</td>\n",
              "      <td>0.301327</td>\n",
              "      <td>0.283628</td>\n",
              "      <td>0.021860</td>\n",
              "      <td>0.243333</td>\n",
              "      <td>0.269366</td>\n",
              "      <td>0.123898</td>\n",
              "      <td>0.120625</td>\n",
              "      <td>0.120763</td>\n",
              "      <td>0.087541</td>\n",
              "      <td>0.354549</td>\n",
              "      <td>-0.014281</td>\n",
              "      <td>1.000000</td>\n",
              "      <td>0.138977</td>\n",
              "      <td>0.116056</td>\n",
              "    </tr>\n",
              "    <tr>\n",
              "      <th>batting_average</th>\n",
              "      <td>-0.362245</td>\n",
              "      <td>-0.362253</td>\n",
              "      <td>0.432322</td>\n",
              "      <td>0.526071</td>\n",
              "      <td>0.296146</td>\n",
              "      <td>0.462456</td>\n",
              "      <td>0.507886</td>\n",
              "      <td>0.474585</td>\n",
              "      <td>0.526403</td>\n",
              "      <td>0.531361</td>\n",
              "      <td>0.017570</td>\n",
              "      <td>0.745405</td>\n",
              "      <td>0.490315</td>\n",
              "      <td>0.041368</td>\n",
              "      <td>0.018359</td>\n",
              "      <td>0.045377</td>\n",
              "      <td>-0.069662</td>\n",
              "      <td>0.216977</td>\n",
              "      <td>-0.013024</td>\n",
              "      <td>0.138977</td>\n",
              "      <td>1.000000</td>\n",
              "      <td>0.588660</td>\n",
              "    </tr>\n",
              "    <tr>\n",
              "      <th>strike_rate</th>\n",
              "      <td>-0.516707</td>\n",
              "      <td>-0.516726</td>\n",
              "      <td>0.395203</td>\n",
              "      <td>0.366480</td>\n",
              "      <td>0.189102</td>\n",
              "      <td>0.291570</td>\n",
              "      <td>0.350461</td>\n",
              "      <td>0.356780</td>\n",
              "      <td>0.361588</td>\n",
              "      <td>0.362983</td>\n",
              "      <td>0.127576</td>\n",
              "      <td>0.640629</td>\n",
              "      <td>0.408810</td>\n",
              "      <td>0.160217</td>\n",
              "      <td>0.150037</td>\n",
              "      <td>0.166325</td>\n",
              "      <td>0.120242</td>\n",
              "      <td>0.112083</td>\n",
              "      <td>0.037567</td>\n",
              "      <td>0.116056</td>\n",
              "      <td>0.588660</td>\n",
              "      <td>1.000000</td>\n",
              "    </tr>\n",
              "  </tbody>\n",
              "</table>\n",
              "</div>"
            ],
            "text/plain": [
              "                        Unnamed: 0  Player_Id  ...  batting_average  strike_rate\n",
              "Unnamed: 0                1.000000   1.000000  ...        -0.362245    -0.516707\n",
              "Player_Id                 1.000000   1.000000  ...        -0.362253    -0.516726\n",
              "total_matches            -0.526391  -0.526388  ...         0.432322     0.395203\n",
              "total_runs               -0.414801  -0.414795  ...         0.526071     0.366480\n",
              "centuries                -0.196126  -0.196123  ...         0.296146     0.189102\n",
              "half_centuries           -0.340059  -0.340053  ...         0.462456     0.291570\n",
              "total_fours              -0.410499  -0.410493  ...         0.507886     0.350461\n",
              "total_sixes              -0.353177  -0.353172  ...         0.474585     0.356780\n",
              "total_dotballs           -0.442715  -0.442708  ...         0.526403     0.361588\n",
              "total_balls_faced        -0.431917  -0.431911  ...         0.531361     0.362983\n",
              "total_ducks              -0.306994  -0.306996  ...         0.017570     0.127576\n",
              "best_score               -0.464241  -0.464244  ...         0.745405     0.640629\n",
              "total_outs               -0.474187  -0.474181  ...         0.490315     0.408810\n",
              "total_overs_bowled       -0.289390  -0.289391  ...         0.041368     0.160217\n",
              "total_wickets            -0.268257  -0.268258  ...         0.018359     0.150037\n",
              "total_runs_given         -0.290209  -0.290211  ...         0.045377     0.166325\n",
              "highest_runs_given       -0.158173  -0.158195  ...        -0.069662     0.120242\n",
              "total_orangecaps         -0.133943  -0.133941  ...         0.216977     0.112083\n",
              "total_purplecaps         -0.076954  -0.076953  ...        -0.013024     0.037567\n",
              "total_player_of_series   -0.086540  -0.086539  ...         0.138977     0.116056\n",
              "batting_average          -0.362245  -0.362253  ...         1.000000     0.588660\n",
              "strike_rate              -0.516707  -0.516726  ...         0.588660     1.000000\n",
              "\n",
              "[22 rows x 22 columns]"
            ]
          },
          "metadata": {},
          "execution_count": 125
        }
      ]
    },
    {
      "cell_type": "code",
      "metadata": {
        "colab": {
          "base_uri": "https://localhost:8080/",
          "height": 784
        },
        "id": "on6pPoH3enJJ",
        "outputId": "0c0fa575-dd74-48e9-feed-9cbab74f95c7"
      },
      "source": [
        "plt.figure(figsize=(14,10),dpi = 80)\n",
        "sns.heatmap(df.corr(),annot=True,fmt='.2g')"
      ],
      "execution_count": 126,
      "outputs": [
        {
          "output_type": "execute_result",
          "data": {
            "text/plain": [
              "<matplotlib.axes._subplots.AxesSubplot at 0x7ff9dea278d0>"
            ]
          },
          "metadata": {},
          "execution_count": 126
        },
        {
          "output_type": "display_data",
          "data": {
            "image/png": "[encoded data removed]",
            "text/plain": [
              "<Figure size 1120x800 with 2 Axes>"
            ]
          },
          "metadata": {
            "needs_background": "light"
          }
        }
      ]
    },
    {
      "cell_type": "code",
      "metadata": {
        "colab": {
          "base_uri": "https://localhost:8080/"
        },
        "id": "oGLs0EshgY5f",
        "outputId": "8931b26c-0693-4e8f-cadb-3a0049e01e3d"
      },
      "source": [
        "df.columns"
      ],
      "execution_count": 127,
      "outputs": [
        {
          "output_type": "execute_result",
          "data": {
            "text/plain": [
              "Index(['Unnamed: 0', 'Player_Id', 'Player_Name', 'Batting_Hand',\n",
              "       'Bowling_Skill', 'Country', 'total_matches', 'total_runs', 'centuries',\n",
              "       'half_centuries', 'total_fours', 'total_sixes', 'total_dotballs',\n",
              "       'total_balls_faced', 'total_ducks', 'best_score', 'total_outs',\n",
              "       'total_overs_bowled', 'total_wickets', 'total_runs_given',\n",
              "       'highest_runs_given', 'total_orangecaps', 'total_purplecaps',\n",
              "       'total_player_of_series', 'batting_average', 'strike_rate'],\n",
              "      dtype='object')"
            ]
          },
          "metadata": {},
          "execution_count": 127
        }
      ]
    },
    {
      "cell_type": "code",
      "metadata": {
        "id": "O0CLZzuqlEIO"
      },
      "source": [
        "df1 = df.copy()"
      ],
      "execution_count": 128,
      "outputs": []
    },
    {
      "cell_type": "code",
      "metadata": {
        "id": "zcI8NsFSlJwY"
      },
      "source": [
        "df1.drop(['Unnamed: 0', 'Player_Id','total_overs_bowled', 'total_wickets', 'total_runs_given',\n",
        "       'highest_runs_given', 'total_orangecaps', 'total_purplecaps',\n",
        "       'total_player_of_series',  'strike_rate'] , axis=1 , inplace=True)"
      ],
      "execution_count": 129,
      "outputs": []
    },
    {
      "cell_type": "code",
      "metadata": {
        "colab": {
          "base_uri": "https://localhost:8080/",
          "height": 309
        },
        "id": "6yO63aS-lp9s",
        "outputId": "7c9242c8-8199-4cda-95f2-6ae4caa03c15"
      },
      "source": [
        "df1.head()"
      ],
      "execution_count": 130,
      "outputs": [
        {
          "output_type": "execute_result",
          "data": {
            "text/html": [
              "<div>\n",
              "<style scoped>\n",
              "    .dataframe tbody tr th:only-of-type {\n",
              "        vertical-align: middle;\n",
              "    }\n",
              "\n",
              "    .dataframe tbody tr th {\n",
              "        vertical-align: top;\n",
              "    }\n",
              "\n",
              "    .dataframe thead th {\n",
              "        text-align: right;\n",
              "    }\n",
              "</style>\n",
              "<table border=\"1\" class=\"dataframe\">\n",
              "  <thead>\n",
              "    <tr style=\"text-align: right;\">\n",
              "      <th></th>\n",
              "      <th>Player_Name</th>\n",
              "      <th>Batting_Hand</th>\n",
              "      <th>Bowling_Skill</th>\n",
              "      <th>Country</th>\n",
              "      <th>total_matches</th>\n",
              "      <th>total_runs</th>\n",
              "      <th>centuries</th>\n",
              "      <th>half_centuries</th>\n",
              "      <th>total_fours</th>\n",
              "      <th>total_sixes</th>\n",
              "      <th>total_dotballs</th>\n",
              "      <th>total_balls_faced</th>\n",
              "      <th>total_ducks</th>\n",
              "      <th>best_score</th>\n",
              "      <th>total_outs</th>\n",
              "      <th>batting_average</th>\n",
              "    </tr>\n",
              "  </thead>\n",
              "  <tbody>\n",
              "    <tr>\n",
              "      <th>0</th>\n",
              "      <td>SC Ganguly</td>\n",
              "      <td>Left_Hand</td>\n",
              "      <td>Right-arm medium</td>\n",
              "      <td>India</td>\n",
              "      <td>59</td>\n",
              "      <td>1349</td>\n",
              "      <td>0</td>\n",
              "      <td>7</td>\n",
              "      <td>137</td>\n",
              "      <td>42</td>\n",
              "      <td>662</td>\n",
              "      <td>1326</td>\n",
              "      <td>7</td>\n",
              "      <td>91</td>\n",
              "      <td>38</td>\n",
              "      <td>35.500000</td>\n",
              "    </tr>\n",
              "    <tr>\n",
              "      <th>1</th>\n",
              "      <td>BB McCullum</td>\n",
              "      <td>Right_Hand</td>\n",
              "      <td>Right-arm medium</td>\n",
              "      <td>New Zealand</td>\n",
              "      <td>92</td>\n",
              "      <td>2435</td>\n",
              "      <td>2</td>\n",
              "      <td>11</td>\n",
              "      <td>248</td>\n",
              "      <td>106</td>\n",
              "      <td>893</td>\n",
              "      <td>1954</td>\n",
              "      <td>5</td>\n",
              "      <td>158</td>\n",
              "      <td>76</td>\n",
              "      <td>32.039474</td>\n",
              "    </tr>\n",
              "    <tr>\n",
              "      <th>2</th>\n",
              "      <td>RT Ponting</td>\n",
              "      <td>Right_Hand</td>\n",
              "      <td>Right-arm medium</td>\n",
              "      <td>Australia</td>\n",
              "      <td>10</td>\n",
              "      <td>91</td>\n",
              "      <td>0</td>\n",
              "      <td>0</td>\n",
              "      <td>5</td>\n",
              "      <td>2</td>\n",
              "      <td>69</td>\n",
              "      <td>129</td>\n",
              "      <td>4</td>\n",
              "      <td>28</td>\n",
              "      <td>4</td>\n",
              "      <td>22.750000</td>\n",
              "    </tr>\n",
              "    <tr>\n",
              "      <th>3</th>\n",
              "      <td>DJ Hussey</td>\n",
              "      <td>Right_Hand</td>\n",
              "      <td>Right-arm offbreak</td>\n",
              "      <td>Australia</td>\n",
              "      <td>64</td>\n",
              "      <td>1322</td>\n",
              "      <td>0</td>\n",
              "      <td>5</td>\n",
              "      <td>90</td>\n",
              "      <td>60</td>\n",
              "      <td>423</td>\n",
              "      <td>1099</td>\n",
              "      <td>8</td>\n",
              "      <td>71</td>\n",
              "      <td>32</td>\n",
              "      <td>41.312500</td>\n",
              "    </tr>\n",
              "    <tr>\n",
              "      <th>4</th>\n",
              "      <td>Mohammad Hafeez</td>\n",
              "      <td>Right_Hand</td>\n",
              "      <td>Right-arm offbreak</td>\n",
              "      <td>Pakistan</td>\n",
              "      <td>8</td>\n",
              "      <td>64</td>\n",
              "      <td>0</td>\n",
              "      <td>0</td>\n",
              "      <td>7</td>\n",
              "      <td>2</td>\n",
              "      <td>51</td>\n",
              "      <td>84</td>\n",
              "      <td>0</td>\n",
              "      <td>16</td>\n",
              "      <td>7</td>\n",
              "      <td>9.142857</td>\n",
              "    </tr>\n",
              "  </tbody>\n",
              "</table>\n",
              "</div>"
            ],
            "text/plain": [
              "       Player_Name Batting_Hand  ... total_outs batting_average\n",
              "0       SC Ganguly    Left_Hand  ...         38       35.500000\n",
              "1      BB McCullum   Right_Hand  ...         76       32.039474\n",
              "2       RT Ponting   Right_Hand  ...          4       22.750000\n",
              "3        DJ Hussey   Right_Hand  ...         32       41.312500\n",
              "4  Mohammad Hafeez   Right_Hand  ...          7        9.142857\n",
              "\n",
              "[5 rows x 16 columns]"
            ]
          },
          "metadata": {},
          "execution_count": 130
        }
      ]
    },
    {
      "cell_type": "code",
      "metadata": {
        "colab": {
          "base_uri": "https://localhost:8080/"
        },
        "id": "wl4RTpOPl0S3",
        "outputId": "be41c01e-3de8-4712-c693-fd9838435095"
      },
      "source": [
        " df1['Country'].value_counts().sort_values(ascending=False)"
      ],
      "execution_count": 131,
      "outputs": [
        {
          "output_type": "execute_result",
          "data": {
            "text/plain": [
              "India           291\n",
              "Australia        78\n",
              "South Africa     44\n",
              "New Zealand      26\n",
              "Sri Lanka        22\n",
              "West Indies      20\n",
              "England          18\n",
              "Pakistan         15\n",
              "Bangladesh        5\n",
              "Zimbabwea         3\n",
              "Netherlands       1\n",
              "Name: Country, dtype: int64"
            ]
          },
          "metadata": {},
          "execution_count": 131
        }
      ]
    },
    {
      "cell_type": "code",
      "metadata": {
        "id": "31EKaJkmndvi"
      },
      "source": [
        "# df2 = pd.get_dummies(df['Country'],drop_first=True)"
      ],
      "execution_count": 132,
      "outputs": []
    },
    {
      "cell_type": "markdown",
      "metadata": {
        "id": "AbQK4HmJquDh"
      },
      "source": [
        "df1['Country'] = df1['Country'].replace(['England' , 'Pakistan','Bangladesh','Zimbabwea'] , 'other')"
      ]
    },
    {
      "cell_type": "code",
      "metadata": {
        "id": "vSC8ySPbhfGi"
      },
      "source": [
        "df1['Country'] = df1['Country'].replace(['England' , 'Pakistan','Bangladesh','Zimbabwea' , 'Netherlands'] , 'other')"
      ],
      "execution_count": 133,
      "outputs": []
    },
    {
      "cell_type": "code",
      "metadata": {
        "colab": {
          "base_uri": "https://localhost:8080/",
          "height": 357
        },
        "id": "tZ3Baoq9ho_o",
        "outputId": "949dafe6-0a1a-4660-d0d1-cced6d21b098"
      },
      "source": [
        "df1.head(6)\n"
      ],
      "execution_count": 134,
      "outputs": [
        {
          "output_type": "execute_result",
          "data": {
            "text/html": [
              "<div>\n",
              "<style scoped>\n",
              "    .dataframe tbody tr th:only-of-type {\n",
              "        vertical-align: middle;\n",
              "    }\n",
              "\n",
              "    .dataframe tbody tr th {\n",
              "        vertical-align: top;\n",
              "    }\n",
              "\n",
              "    .dataframe thead th {\n",
              "        text-align: right;\n",
              "    }\n",
              "</style>\n",
              "<table border=\"1\" class=\"dataframe\">\n",
              "  <thead>\n",
              "    <tr style=\"text-align: right;\">\n",
              "      <th></th>\n",
              "      <th>Player_Name</th>\n",
              "      <th>Batting_Hand</th>\n",
              "      <th>Bowling_Skill</th>\n",
              "      <th>Country</th>\n",
              "      <th>total_matches</th>\n",
              "      <th>total_runs</th>\n",
              "      <th>centuries</th>\n",
              "      <th>half_centuries</th>\n",
              "      <th>total_fours</th>\n",
              "      <th>total_sixes</th>\n",
              "      <th>total_dotballs</th>\n",
              "      <th>total_balls_faced</th>\n",
              "      <th>total_ducks</th>\n",
              "      <th>best_score</th>\n",
              "      <th>total_outs</th>\n",
              "      <th>batting_average</th>\n",
              "    </tr>\n",
              "  </thead>\n",
              "  <tbody>\n",
              "    <tr>\n",
              "      <th>0</th>\n",
              "      <td>SC Ganguly</td>\n",
              "      <td>Left_Hand</td>\n",
              "      <td>Right-arm medium</td>\n",
              "      <td>India</td>\n",
              "      <td>59</td>\n",
              "      <td>1349</td>\n",
              "      <td>0</td>\n",
              "      <td>7</td>\n",
              "      <td>137</td>\n",
              "      <td>42</td>\n",
              "      <td>662</td>\n",
              "      <td>1326</td>\n",
              "      <td>7</td>\n",
              "      <td>91</td>\n",
              "      <td>38</td>\n",
              "      <td>35.500000</td>\n",
              "    </tr>\n",
              "    <tr>\n",
              "      <th>1</th>\n",
              "      <td>BB McCullum</td>\n",
              "      <td>Right_Hand</td>\n",
              "      <td>Right-arm medium</td>\n",
              "      <td>New Zealand</td>\n",
              "      <td>92</td>\n",
              "      <td>2435</td>\n",
              "      <td>2</td>\n",
              "      <td>11</td>\n",
              "      <td>248</td>\n",
              "      <td>106</td>\n",
              "      <td>893</td>\n",
              "      <td>1954</td>\n",
              "      <td>5</td>\n",
              "      <td>158</td>\n",
              "      <td>76</td>\n",
              "      <td>32.039474</td>\n",
              "    </tr>\n",
              "    <tr>\n",
              "      <th>2</th>\n",
              "      <td>RT Ponting</td>\n",
              "      <td>Right_Hand</td>\n",
              "      <td>Right-arm medium</td>\n",
              "      <td>Australia</td>\n",
              "      <td>10</td>\n",
              "      <td>91</td>\n",
              "      <td>0</td>\n",
              "      <td>0</td>\n",
              "      <td>5</td>\n",
              "      <td>2</td>\n",
              "      <td>69</td>\n",
              "      <td>129</td>\n",
              "      <td>4</td>\n",
              "      <td>28</td>\n",
              "      <td>4</td>\n",
              "      <td>22.750000</td>\n",
              "    </tr>\n",
              "    <tr>\n",
              "      <th>3</th>\n",
              "      <td>DJ Hussey</td>\n",
              "      <td>Right_Hand</td>\n",
              "      <td>Right-arm offbreak</td>\n",
              "      <td>Australia</td>\n",
              "      <td>64</td>\n",
              "      <td>1322</td>\n",
              "      <td>0</td>\n",
              "      <td>5</td>\n",
              "      <td>90</td>\n",
              "      <td>60</td>\n",
              "      <td>423</td>\n",
              "      <td>1099</td>\n",
              "      <td>8</td>\n",
              "      <td>71</td>\n",
              "      <td>32</td>\n",
              "      <td>41.312500</td>\n",
              "    </tr>\n",
              "    <tr>\n",
              "      <th>4</th>\n",
              "      <td>Mohammad Hafeez</td>\n",
              "      <td>Right_Hand</td>\n",
              "      <td>Right-arm offbreak</td>\n",
              "      <td>other</td>\n",
              "      <td>8</td>\n",
              "      <td>64</td>\n",
              "      <td>0</td>\n",
              "      <td>0</td>\n",
              "      <td>7</td>\n",
              "      <td>2</td>\n",
              "      <td>51</td>\n",
              "      <td>84</td>\n",
              "      <td>0</td>\n",
              "      <td>16</td>\n",
              "      <td>7</td>\n",
              "      <td>9.142857</td>\n",
              "    </tr>\n",
              "    <tr>\n",
              "      <th>5</th>\n",
              "      <td>R Dravid</td>\n",
              "      <td>Right_Hand</td>\n",
              "      <td>Right-arm offbreak</td>\n",
              "      <td>India</td>\n",
              "      <td>89</td>\n",
              "      <td>2170</td>\n",
              "      <td>0</td>\n",
              "      <td>11</td>\n",
              "      <td>268</td>\n",
              "      <td>28</td>\n",
              "      <td>819</td>\n",
              "      <td>1917</td>\n",
              "      <td>10</td>\n",
              "      <td>75</td>\n",
              "      <td>56</td>\n",
              "      <td>38.750000</td>\n",
              "    </tr>\n",
              "  </tbody>\n",
              "</table>\n",
              "</div>"
            ],
            "text/plain": [
              "       Player_Name Batting_Hand  ... total_outs batting_average\n",
              "0       SC Ganguly    Left_Hand  ...         38       35.500000\n",
              "1      BB McCullum   Right_Hand  ...         76       32.039474\n",
              "2       RT Ponting   Right_Hand  ...          4       22.750000\n",
              "3        DJ Hussey   Right_Hand  ...         32       41.312500\n",
              "4  Mohammad Hafeez   Right_Hand  ...          7        9.142857\n",
              "5         R Dravid   Right_Hand  ...         56       38.750000\n",
              "\n",
              "[6 rows x 16 columns]"
            ]
          },
          "metadata": {},
          "execution_count": 134
        }
      ]
    },
    {
      "cell_type": "markdown",
      "metadata": {
        "id": "euTYqbl9rl78"
      },
      "source": [
        "df1.head(6)"
      ]
    },
    {
      "cell_type": "code",
      "metadata": {
        "colab": {
          "base_uri": "https://localhost:8080/"
        },
        "id": "Ju9upbkEh5cA",
        "outputId": "d31ec828-a5c3-42c5-b967-3b1a2371ccde"
      },
      "source": [
        " df1['Country'].value_counts().sort_values(ascending=False).head(10)"
      ],
      "execution_count": 135,
      "outputs": [
        {
          "output_type": "execute_result",
          "data": {
            "text/plain": [
              "India           291\n",
              "Australia        78\n",
              "South Africa     44\n",
              "other            42\n",
              "New Zealand      26\n",
              "Sri Lanka        22\n",
              "West Indies      20\n",
              "Name: Country, dtype: int64"
            ]
          },
          "metadata": {},
          "execution_count": 135
        }
      ]
    },
    {
      "cell_type": "code",
      "metadata": {
        "id": "NOE4bA5RtAF_"
      },
      "source": [
        "df2 = pd.get_dummies(df1['Country'],drop_first=True)"
      ],
      "execution_count": 136,
      "outputs": []
    },
    {
      "cell_type": "code",
      "metadata": {
        "id": "x2E9zStKtNsb"
      },
      "source": [
        "df1 = pd.concat([df1 , df2] , axis=1)\n",
        "  \n"
      ],
      "execution_count": 137,
      "outputs": []
    },
    {
      "cell_type": "code",
      "metadata": {
        "id": "ql6HKljYxxp6"
      },
      "source": [
        "df1.drop('Country' , axis=1 , inplace=True)"
      ],
      "execution_count": 138,
      "outputs": []
    },
    {
      "cell_type": "code",
      "metadata": {
        "colab": {
          "base_uri": "https://localhost:8080/",
          "height": 182
        },
        "id": "qFJa_a5AudA7",
        "outputId": "f59028e5-db20-4118-be4c-6a6282cc0467"
      },
      "source": [
        "df1.head(2)"
      ],
      "execution_count": 139,
      "outputs": [
        {
          "output_type": "execute_result",
          "data": {
            "text/html": [
              "<div>\n",
              "<style scoped>\n",
              "    .dataframe tbody tr th:only-of-type {\n",
              "        vertical-align: middle;\n",
              "    }\n",
              "\n",
              "    .dataframe tbody tr th {\n",
              "        vertical-align: top;\n",
              "    }\n",
              "\n",
              "    .dataframe thead th {\n",
              "        text-align: right;\n",
              "    }\n",
              "</style>\n",
              "<table border=\"1\" class=\"dataframe\">\n",
              "  <thead>\n",
              "    <tr style=\"text-align: right;\">\n",
              "      <th></th>\n",
              "      <th>Player_Name</th>\n",
              "      <th>Batting_Hand</th>\n",
              "      <th>Bowling_Skill</th>\n",
              "      <th>total_matches</th>\n",
              "      <th>total_runs</th>\n",
              "      <th>centuries</th>\n",
              "      <th>half_centuries</th>\n",
              "      <th>total_fours</th>\n",
              "      <th>total_sixes</th>\n",
              "      <th>total_dotballs</th>\n",
              "      <th>total_balls_faced</th>\n",
              "      <th>total_ducks</th>\n",
              "      <th>best_score</th>\n",
              "      <th>total_outs</th>\n",
              "      <th>batting_average</th>\n",
              "      <th>India</th>\n",
              "      <th>New Zealand</th>\n",
              "      <th>South Africa</th>\n",
              "      <th>Sri Lanka</th>\n",
              "      <th>West Indies</th>\n",
              "      <th>other</th>\n",
              "    </tr>\n",
              "  </thead>\n",
              "  <tbody>\n",
              "    <tr>\n",
              "      <th>0</th>\n",
              "      <td>SC Ganguly</td>\n",
              "      <td>Left_Hand</td>\n",
              "      <td>Right-arm medium</td>\n",
              "      <td>59</td>\n",
              "      <td>1349</td>\n",
              "      <td>0</td>\n",
              "      <td>7</td>\n",
              "      <td>137</td>\n",
              "      <td>42</td>\n",
              "      <td>662</td>\n",
              "      <td>1326</td>\n",
              "      <td>7</td>\n",
              "      <td>91</td>\n",
              "      <td>38</td>\n",
              "      <td>35.500000</td>\n",
              "      <td>1</td>\n",
              "      <td>0</td>\n",
              "      <td>0</td>\n",
              "      <td>0</td>\n",
              "      <td>0</td>\n",
              "      <td>0</td>\n",
              "    </tr>\n",
              "    <tr>\n",
              "      <th>1</th>\n",
              "      <td>BB McCullum</td>\n",
              "      <td>Right_Hand</td>\n",
              "      <td>Right-arm medium</td>\n",
              "      <td>92</td>\n",
              "      <td>2435</td>\n",
              "      <td>2</td>\n",
              "      <td>11</td>\n",
              "      <td>248</td>\n",
              "      <td>106</td>\n",
              "      <td>893</td>\n",
              "      <td>1954</td>\n",
              "      <td>5</td>\n",
              "      <td>158</td>\n",
              "      <td>76</td>\n",
              "      <td>32.039474</td>\n",
              "      <td>0</td>\n",
              "      <td>1</td>\n",
              "      <td>0</td>\n",
              "      <td>0</td>\n",
              "      <td>0</td>\n",
              "      <td>0</td>\n",
              "    </tr>\n",
              "  </tbody>\n",
              "</table>\n",
              "</div>"
            ],
            "text/plain": [
              "   Player_Name Batting_Hand     Bowling_Skill  ...  Sri Lanka  West Indies  other\n",
              "0   SC Ganguly    Left_Hand  Right-arm medium  ...          0            0      0\n",
              "1  BB McCullum   Right_Hand  Right-arm medium  ...          0            0      0\n",
              "\n",
              "[2 rows x 21 columns]"
            ]
          },
          "metadata": {},
          "execution_count": 139
        }
      ]
    },
    {
      "cell_type": "code",
      "metadata": {
        "id": "CVoHGDm-w8GO",
        "colab": {
          "base_uri": "https://localhost:8080/"
        },
        "outputId": "cbd1bae9-ed60-44bc-ce87-f58871a85194"
      },
      "source": [
        "df['Batting_Hand'].value_counts().sort_values(ascending=False)"
      ],
      "execution_count": 140,
      "outputs": [
        {
          "output_type": "execute_result",
          "data": {
            "text/plain": [
              "Right_Hand    397\n",
              "Left_Hand     126\n",
              "Name: Batting_Hand, dtype: int64"
            ]
          },
          "metadata": {},
          "execution_count": 140
        }
      ]
    },
    {
      "cell_type": "code",
      "metadata": {
        "id": "86CJOrPzkMef"
      },
      "source": [
        "df1['Batting_Hand'] = df1['Batting_Hand'].apply(lambda x : 0 if x =='Right_Hand' else 1) "
      ],
      "execution_count": 141,
      "outputs": []
    },
    {
      "cell_type": "markdown",
      "metadata": {
        "id": "poQr9dJzmD5R"
      },
      "source": [
        "RIGHT HAND 0 , LEFT HAND 1\n",
        "\n",
        "\n",
        "\n",
        "\n"
      ]
    },
    {
      "cell_type": "code",
      "metadata": {
        "colab": {
          "base_uri": "https://localhost:8080/",
          "height": 326
        },
        "id": "lwmSGuJZkTtN",
        "outputId": "2648e522-6e01-466e-9c83-6145ff028b53"
      },
      "source": [
        "df1.head()"
      ],
      "execution_count": 142,
      "outputs": [
        {
          "output_type": "execute_result",
          "data": {
            "text/html": [
              "<div>\n",
              "<style scoped>\n",
              "    .dataframe tbody tr th:only-of-type {\n",
              "        vertical-align: middle;\n",
              "    }\n",
              "\n",
              "    .dataframe tbody tr th {\n",
              "        vertical-align: top;\n",
              "    }\n",
              "\n",
              "    .dataframe thead th {\n",
              "        text-align: right;\n",
              "    }\n",
              "</style>\n",
              "<table border=\"1\" class=\"dataframe\">\n",
              "  <thead>\n",
              "    <tr style=\"text-align: right;\">\n",
              "      <th></th>\n",
              "      <th>Player_Name</th>\n",
              "      <th>Batting_Hand</th>\n",
              "      <th>Bowling_Skill</th>\n",
              "      <th>total_matches</th>\n",
              "      <th>total_runs</th>\n",
              "      <th>centuries</th>\n",
              "      <th>half_centuries</th>\n",
              "      <th>total_fours</th>\n",
              "      <th>total_sixes</th>\n",
              "      <th>total_dotballs</th>\n",
              "      <th>total_balls_faced</th>\n",
              "      <th>total_ducks</th>\n",
              "      <th>best_score</th>\n",
              "      <th>total_outs</th>\n",
              "      <th>batting_average</th>\n",
              "      <th>India</th>\n",
              "      <th>New Zealand</th>\n",
              "      <th>South Africa</th>\n",
              "      <th>Sri Lanka</th>\n",
              "      <th>West Indies</th>\n",
              "      <th>other</th>\n",
              "    </tr>\n",
              "  </thead>\n",
              "  <tbody>\n",
              "    <tr>\n",
              "      <th>0</th>\n",
              "      <td>SC Ganguly</td>\n",
              "      <td>1</td>\n",
              "      <td>Right-arm medium</td>\n",
              "      <td>59</td>\n",
              "      <td>1349</td>\n",
              "      <td>0</td>\n",
              "      <td>7</td>\n",
              "      <td>137</td>\n",
              "      <td>42</td>\n",
              "      <td>662</td>\n",
              "      <td>1326</td>\n",
              "      <td>7</td>\n",
              "      <td>91</td>\n",
              "      <td>38</td>\n",
              "      <td>35.500000</td>\n",
              "      <td>1</td>\n",
              "      <td>0</td>\n",
              "      <td>0</td>\n",
              "      <td>0</td>\n",
              "      <td>0</td>\n",
              "      <td>0</td>\n",
              "    </tr>\n",
              "    <tr>\n",
              "      <th>1</th>\n",
              "      <td>BB McCullum</td>\n",
              "      <td>0</td>\n",
              "      <td>Right-arm medium</td>\n",
              "      <td>92</td>\n",
              "      <td>2435</td>\n",
              "      <td>2</td>\n",
              "      <td>11</td>\n",
              "      <td>248</td>\n",
              "      <td>106</td>\n",
              "      <td>893</td>\n",
              "      <td>1954</td>\n",
              "      <td>5</td>\n",
              "      <td>158</td>\n",
              "      <td>76</td>\n",
              "      <td>32.039474</td>\n",
              "      <td>0</td>\n",
              "      <td>1</td>\n",
              "      <td>0</td>\n",
              "      <td>0</td>\n",
              "      <td>0</td>\n",
              "      <td>0</td>\n",
              "    </tr>\n",
              "    <tr>\n",
              "      <th>2</th>\n",
              "      <td>RT Ponting</td>\n",
              "      <td>0</td>\n",
              "      <td>Right-arm medium</td>\n",
              "      <td>10</td>\n",
              "      <td>91</td>\n",
              "      <td>0</td>\n",
              "      <td>0</td>\n",
              "      <td>5</td>\n",
              "      <td>2</td>\n",
              "      <td>69</td>\n",
              "      <td>129</td>\n",
              "      <td>4</td>\n",
              "      <td>28</td>\n",
              "      <td>4</td>\n",
              "      <td>22.750000</td>\n",
              "      <td>0</td>\n",
              "      <td>0</td>\n",
              "      <td>0</td>\n",
              "      <td>0</td>\n",
              "      <td>0</td>\n",
              "      <td>0</td>\n",
              "    </tr>\n",
              "    <tr>\n",
              "      <th>3</th>\n",
              "      <td>DJ Hussey</td>\n",
              "      <td>0</td>\n",
              "      <td>Right-arm offbreak</td>\n",
              "      <td>64</td>\n",
              "      <td>1322</td>\n",
              "      <td>0</td>\n",
              "      <td>5</td>\n",
              "      <td>90</td>\n",
              "      <td>60</td>\n",
              "      <td>423</td>\n",
              "      <td>1099</td>\n",
              "      <td>8</td>\n",
              "      <td>71</td>\n",
              "      <td>32</td>\n",
              "      <td>41.312500</td>\n",
              "      <td>0</td>\n",
              "      <td>0</td>\n",
              "      <td>0</td>\n",
              "      <td>0</td>\n",
              "      <td>0</td>\n",
              "      <td>0</td>\n",
              "    </tr>\n",
              "    <tr>\n",
              "      <th>4</th>\n",
              "      <td>Mohammad Hafeez</td>\n",
              "      <td>0</td>\n",
              "      <td>Right-arm offbreak</td>\n",
              "      <td>8</td>\n",
              "      <td>64</td>\n",
              "      <td>0</td>\n",
              "      <td>0</td>\n",
              "      <td>7</td>\n",
              "      <td>2</td>\n",
              "      <td>51</td>\n",
              "      <td>84</td>\n",
              "      <td>0</td>\n",
              "      <td>16</td>\n",
              "      <td>7</td>\n",
              "      <td>9.142857</td>\n",
              "      <td>0</td>\n",
              "      <td>0</td>\n",
              "      <td>0</td>\n",
              "      <td>0</td>\n",
              "      <td>0</td>\n",
              "      <td>1</td>\n",
              "    </tr>\n",
              "  </tbody>\n",
              "</table>\n",
              "</div>"
            ],
            "text/plain": [
              "       Player_Name  Batting_Hand  ... West Indies  other\n",
              "0       SC Ganguly             1  ...           0      0\n",
              "1      BB McCullum             0  ...           0      0\n",
              "2       RT Ponting             0  ...           0      0\n",
              "3        DJ Hussey             0  ...           0      0\n",
              "4  Mohammad Hafeez             0  ...           0      1\n",
              "\n",
              "[5 rows x 21 columns]"
            ]
          },
          "metadata": {},
          "execution_count": 142
        }
      ]
    },
    {
      "cell_type": "code",
      "metadata": {
        "colab": {
          "base_uri": "https://localhost:8080/"
        },
        "id": "1EkYop0n1YlV",
        "outputId": "2025e05d-9424-4ce9-82fa-b831f1ae874d"
      },
      "source": [
        "df.shape"
      ],
      "execution_count": 143,
      "outputs": [
        {
          "output_type": "execute_result",
          "data": {
            "text/plain": [
              "(523, 26)"
            ]
          },
          "metadata": {},
          "execution_count": 143
        }
      ]
    },
    {
      "cell_type": "code",
      "metadata": {
        "colab": {
          "base_uri": "https://localhost:8080/"
        },
        "id": "6fyVcZ5rllXp",
        "outputId": "4a7d7644-5022-4d34-b5c6-5260f0f47226"
      },
      "source": [
        "df['Bowling_Skill'].value_counts().sort_values(ascending=False)"
      ],
      "execution_count": 144,
      "outputs": [
        {
          "output_type": "execute_result",
          "data": {
            "text/plain": [
              "Right-arm medium          200\n",
              "Right-arm offbreak         82\n",
              "Right-arm fast-medium      53\n",
              "Slow left-arm orthodox     44\n",
              "Right-arm medium-fast      38\n",
              "Legbreak                   24\n",
              "Legbreak googly            21\n",
              "Right-arm fast             20\n",
              "Left-arm fast-medium       13\n",
              "Left-arm medium            11\n",
              "Left-arm medium-fast        8\n",
              "Slow left-arm chinaman      5\n",
              "Left-arm fast               3\n",
              "Right-arm bowler            1\n",
              "Name: Bowling_Skill, dtype: int64"
            ]
          },
          "metadata": {},
          "execution_count": 144
        }
      ]
    },
    {
      "cell_type": "code",
      "metadata": {
        "colab": {
          "base_uri": "https://localhost:8080/"
        },
        "id": "OTL4JtanzTEi",
        "outputId": "ca276a43-8310-450a-e923-0bfd52ed22e9"
      },
      "source": [
        "df['Bowling_Skill'].unique()"
      ],
      "execution_count": 145,
      "outputs": [
        {
          "output_type": "execute_result",
          "data": {
            "text/plain": [
              "array(['Right-arm medium', 'Right-arm offbreak', 'Right-arm fast-medium',\n",
              "       'Legbreak googly', 'Right-arm medium-fast', 'Left-arm fast-medium',\n",
              "       'Slow left-arm orthodox', 'Slow left-arm chinaman',\n",
              "       'Left-arm medium-fast', 'Legbreak', 'Right-arm fast',\n",
              "       'Right-arm bowler', 'Left-arm medium', 'Left-arm fast'],\n",
              "      dtype=object)"
            ]
          },
          "metadata": {},
          "execution_count": 145
        }
      ]
    },
    {
      "cell_type": "code",
      "metadata": {
        "id": "2QJM5wD7mZnC"
      },
      "source": [
        "df1['Bowling_Skill'] = df1['Bowling_Skill'].replace(['Right-arm fast' , 'Left-arm fast-medium' ,'Left-arm medium', 'Left-arm medium-fast','Left-arm fast','Slow left-arm chinaman','Right-arm bowler'],'other_bowling')"
      ],
      "execution_count": 146,
      "outputs": []
    },
    {
      "cell_type": "code",
      "metadata": {
        "colab": {
          "base_uri": "https://localhost:8080/"
        },
        "id": "ScXziVR4mrxl",
        "outputId": "0eff3174-c2b2-43a2-c1dc-d6c55319efe4"
      },
      "source": [
        "df1['Bowling_Skill'].value_counts().sort_values(ascending=False)"
      ],
      "execution_count": 147,
      "outputs": [
        {
          "output_type": "execute_result",
          "data": {
            "text/plain": [
              "Right-arm medium          200\n",
              "Right-arm offbreak         82\n",
              "other_bowling              61\n",
              "Right-arm fast-medium      53\n",
              "Slow left-arm orthodox     44\n",
              "Right-arm medium-fast      38\n",
              "Legbreak                   24\n",
              "Legbreak googly            21\n",
              "Name: Bowling_Skill, dtype: int64"
            ]
          },
          "metadata": {},
          "execution_count": 147
        }
      ]
    },
    {
      "cell_type": "code",
      "metadata": {
        "colab": {
          "base_uri": "https://localhost:8080/",
          "height": 326
        },
        "id": "UVCNOi4PqjCE",
        "outputId": "10aa2297-6eec-453a-b0c6-5536e291386b"
      },
      "source": [
        "df1.head()"
      ],
      "execution_count": 148,
      "outputs": [
        {
          "output_type": "execute_result",
          "data": {
            "text/html": [
              "<div>\n",
              "<style scoped>\n",
              "    .dataframe tbody tr th:only-of-type {\n",
              "        vertical-align: middle;\n",
              "    }\n",
              "\n",
              "    .dataframe tbody tr th {\n",
              "        vertical-align: top;\n",
              "    }\n",
              "\n",
              "    .dataframe thead th {\n",
              "        text-align: right;\n",
              "    }\n",
              "</style>\n",
              "<table border=\"1\" class=\"dataframe\">\n",
              "  <thead>\n",
              "    <tr style=\"text-align: right;\">\n",
              "      <th></th>\n",
              "      <th>Player_Name</th>\n",
              "      <th>Batting_Hand</th>\n",
              "      <th>Bowling_Skill</th>\n",
              "      <th>total_matches</th>\n",
              "      <th>total_runs</th>\n",
              "      <th>centuries</th>\n",
              "      <th>half_centuries</th>\n",
              "      <th>total_fours</th>\n",
              "      <th>total_sixes</th>\n",
              "      <th>total_dotballs</th>\n",
              "      <th>total_balls_faced</th>\n",
              "      <th>total_ducks</th>\n",
              "      <th>best_score</th>\n",
              "      <th>total_outs</th>\n",
              "      <th>batting_average</th>\n",
              "      <th>India</th>\n",
              "      <th>New Zealand</th>\n",
              "      <th>South Africa</th>\n",
              "      <th>Sri Lanka</th>\n",
              "      <th>West Indies</th>\n",
              "      <th>other</th>\n",
              "    </tr>\n",
              "  </thead>\n",
              "  <tbody>\n",
              "    <tr>\n",
              "      <th>0</th>\n",
              "      <td>SC Ganguly</td>\n",
              "      <td>1</td>\n",
              "      <td>Right-arm medium</td>\n",
              "      <td>59</td>\n",
              "      <td>1349</td>\n",
              "      <td>0</td>\n",
              "      <td>7</td>\n",
              "      <td>137</td>\n",
              "      <td>42</td>\n",
              "      <td>662</td>\n",
              "      <td>1326</td>\n",
              "      <td>7</td>\n",
              "      <td>91</td>\n",
              "      <td>38</td>\n",
              "      <td>35.500000</td>\n",
              "      <td>1</td>\n",
              "      <td>0</td>\n",
              "      <td>0</td>\n",
              "      <td>0</td>\n",
              "      <td>0</td>\n",
              "      <td>0</td>\n",
              "    </tr>\n",
              "    <tr>\n",
              "      <th>1</th>\n",
              "      <td>BB McCullum</td>\n",
              "      <td>0</td>\n",
              "      <td>Right-arm medium</td>\n",
              "      <td>92</td>\n",
              "      <td>2435</td>\n",
              "      <td>2</td>\n",
              "      <td>11</td>\n",
              "      <td>248</td>\n",
              "      <td>106</td>\n",
              "      <td>893</td>\n",
              "      <td>1954</td>\n",
              "      <td>5</td>\n",
              "      <td>158</td>\n",
              "      <td>76</td>\n",
              "      <td>32.039474</td>\n",
              "      <td>0</td>\n",
              "      <td>1</td>\n",
              "      <td>0</td>\n",
              "      <td>0</td>\n",
              "      <td>0</td>\n",
              "      <td>0</td>\n",
              "    </tr>\n",
              "    <tr>\n",
              "      <th>2</th>\n",
              "      <td>RT Ponting</td>\n",
              "      <td>0</td>\n",
              "      <td>Right-arm medium</td>\n",
              "      <td>10</td>\n",
              "      <td>91</td>\n",
              "      <td>0</td>\n",
              "      <td>0</td>\n",
              "      <td>5</td>\n",
              "      <td>2</td>\n",
              "      <td>69</td>\n",
              "      <td>129</td>\n",
              "      <td>4</td>\n",
              "      <td>28</td>\n",
              "      <td>4</td>\n",
              "      <td>22.750000</td>\n",
              "      <td>0</td>\n",
              "      <td>0</td>\n",
              "      <td>0</td>\n",
              "      <td>0</td>\n",
              "      <td>0</td>\n",
              "      <td>0</td>\n",
              "    </tr>\n",
              "    <tr>\n",
              "      <th>3</th>\n",
              "      <td>DJ Hussey</td>\n",
              "      <td>0</td>\n",
              "      <td>Right-arm offbreak</td>\n",
              "      <td>64</td>\n",
              "      <td>1322</td>\n",
              "      <td>0</td>\n",
              "      <td>5</td>\n",
              "      <td>90</td>\n",
              "      <td>60</td>\n",
              "      <td>423</td>\n",
              "      <td>1099</td>\n",
              "      <td>8</td>\n",
              "      <td>71</td>\n",
              "      <td>32</td>\n",
              "      <td>41.312500</td>\n",
              "      <td>0</td>\n",
              "      <td>0</td>\n",
              "      <td>0</td>\n",
              "      <td>0</td>\n",
              "      <td>0</td>\n",
              "      <td>0</td>\n",
              "    </tr>\n",
              "    <tr>\n",
              "      <th>4</th>\n",
              "      <td>Mohammad Hafeez</td>\n",
              "      <td>0</td>\n",
              "      <td>Right-arm offbreak</td>\n",
              "      <td>8</td>\n",
              "      <td>64</td>\n",
              "      <td>0</td>\n",
              "      <td>0</td>\n",
              "      <td>7</td>\n",
              "      <td>2</td>\n",
              "      <td>51</td>\n",
              "      <td>84</td>\n",
              "      <td>0</td>\n",
              "      <td>16</td>\n",
              "      <td>7</td>\n",
              "      <td>9.142857</td>\n",
              "      <td>0</td>\n",
              "      <td>0</td>\n",
              "      <td>0</td>\n",
              "      <td>0</td>\n",
              "      <td>0</td>\n",
              "      <td>1</td>\n",
              "    </tr>\n",
              "  </tbody>\n",
              "</table>\n",
              "</div>"
            ],
            "text/plain": [
              "       Player_Name  Batting_Hand  ... West Indies  other\n",
              "0       SC Ganguly             1  ...           0      0\n",
              "1      BB McCullum             0  ...           0      0\n",
              "2       RT Ponting             0  ...           0      0\n",
              "3        DJ Hussey             0  ...           0      0\n",
              "4  Mohammad Hafeez             0  ...           0      1\n",
              "\n",
              "[5 rows x 21 columns]"
            ]
          },
          "metadata": {},
          "execution_count": 148
        }
      ]
    },
    {
      "cell_type": "code",
      "metadata": {
        "id": "XO4EG71UwU8d"
      },
      "source": [
        "df3 = pd.get_dummies(df1['Bowling_Skill'],drop_first=True)"
      ],
      "execution_count": 149,
      "outputs": []
    },
    {
      "cell_type": "code",
      "metadata": {
        "id": "s9L2IBVe0seX"
      },
      "source": [
        "df1 = pd.concat([df1.drop('Bowling_Skill',axis=1) , df3] , axis=1)"
      ],
      "execution_count": 150,
      "outputs": []
    },
    {
      "cell_type": "code",
      "metadata": {
        "colab": {
          "base_uri": "https://localhost:8080/",
          "height": 199
        },
        "id": "ZeR_Ah4B03Pr",
        "outputId": "e6620e4c-25bf-4502-b040-c22cc7b6d0ac"
      },
      "source": [
        "df1.head(2)"
      ],
      "execution_count": 151,
      "outputs": [
        {
          "output_type": "execute_result",
          "data": {
            "text/html": [
              "<div>\n",
              "<style scoped>\n",
              "    .dataframe tbody tr th:only-of-type {\n",
              "        vertical-align: middle;\n",
              "    }\n",
              "\n",
              "    .dataframe tbody tr th {\n",
              "        vertical-align: top;\n",
              "    }\n",
              "\n",
              "    .dataframe thead th {\n",
              "        text-align: right;\n",
              "    }\n",
              "</style>\n",
              "<table border=\"1\" class=\"dataframe\">\n",
              "  <thead>\n",
              "    <tr style=\"text-align: right;\">\n",
              "      <th></th>\n",
              "      <th>Player_Name</th>\n",
              "      <th>Batting_Hand</th>\n",
              "      <th>total_matches</th>\n",
              "      <th>total_runs</th>\n",
              "      <th>centuries</th>\n",
              "      <th>half_centuries</th>\n",
              "      <th>total_fours</th>\n",
              "      <th>total_sixes</th>\n",
              "      <th>total_dotballs</th>\n",
              "      <th>total_balls_faced</th>\n",
              "      <th>total_ducks</th>\n",
              "      <th>best_score</th>\n",
              "      <th>total_outs</th>\n",
              "      <th>batting_average</th>\n",
              "      <th>India</th>\n",
              "      <th>New Zealand</th>\n",
              "      <th>South Africa</th>\n",
              "      <th>Sri Lanka</th>\n",
              "      <th>West Indies</th>\n",
              "      <th>other</th>\n",
              "      <th>Legbreak googly</th>\n",
              "      <th>Right-arm fast-medium</th>\n",
              "      <th>Right-arm medium</th>\n",
              "      <th>Right-arm medium-fast</th>\n",
              "      <th>Right-arm offbreak</th>\n",
              "      <th>Slow left-arm orthodox</th>\n",
              "      <th>other_bowling</th>\n",
              "    </tr>\n",
              "  </thead>\n",
              "  <tbody>\n",
              "    <tr>\n",
              "      <th>0</th>\n",
              "      <td>SC Ganguly</td>\n",
              "      <td>1</td>\n",
              "      <td>59</td>\n",
              "      <td>1349</td>\n",
              "      <td>0</td>\n",
              "      <td>7</td>\n",
              "      <td>137</td>\n",
              "      <td>42</td>\n",
              "      <td>662</td>\n",
              "      <td>1326</td>\n",
              "      <td>7</td>\n",
              "      <td>91</td>\n",
              "      <td>38</td>\n",
              "      <td>35.500000</td>\n",
              "      <td>1</td>\n",
              "      <td>0</td>\n",
              "      <td>0</td>\n",
              "      <td>0</td>\n",
              "      <td>0</td>\n",
              "      <td>0</td>\n",
              "      <td>0</td>\n",
              "      <td>0</td>\n",
              "      <td>1</td>\n",
              "      <td>0</td>\n",
              "      <td>0</td>\n",
              "      <td>0</td>\n",
              "      <td>0</td>\n",
              "    </tr>\n",
              "    <tr>\n",
              "      <th>1</th>\n",
              "      <td>BB McCullum</td>\n",
              "      <td>0</td>\n",
              "      <td>92</td>\n",
              "      <td>2435</td>\n",
              "      <td>2</td>\n",
              "      <td>11</td>\n",
              "      <td>248</td>\n",
              "      <td>106</td>\n",
              "      <td>893</td>\n",
              "      <td>1954</td>\n",
              "      <td>5</td>\n",
              "      <td>158</td>\n",
              "      <td>76</td>\n",
              "      <td>32.039474</td>\n",
              "      <td>0</td>\n",
              "      <td>1</td>\n",
              "      <td>0</td>\n",
              "      <td>0</td>\n",
              "      <td>0</td>\n",
              "      <td>0</td>\n",
              "      <td>0</td>\n",
              "      <td>0</td>\n",
              "      <td>1</td>\n",
              "      <td>0</td>\n",
              "      <td>0</td>\n",
              "      <td>0</td>\n",
              "      <td>0</td>\n",
              "    </tr>\n",
              "  </tbody>\n",
              "</table>\n",
              "</div>"
            ],
            "text/plain": [
              "   Player_Name  Batting_Hand  ...  Slow left-arm orthodox  other_bowling\n",
              "0   SC Ganguly             1  ...                       0              0\n",
              "1  BB McCullum             0  ...                       0              0\n",
              "\n",
              "[2 rows x 27 columns]"
            ]
          },
          "metadata": {},
          "execution_count": 151
        }
      ]
    },
    {
      "cell_type": "code",
      "metadata": {
        "colab": {
          "base_uri": "https://localhost:8080/"
        },
        "id": "p73TAozw05Ga",
        "outputId": "9db67570-c083-48a3-f983-5ca4f635e0b4"
      },
      "source": [
        "df1.shape"
      ],
      "execution_count": 152,
      "outputs": [
        {
          "output_type": "execute_result",
          "data": {
            "text/plain": [
              "(523, 27)"
            ]
          },
          "metadata": {},
          "execution_count": 152
        }
      ]
    },
    {
      "cell_type": "code",
      "metadata": {
        "id": "VaX_0uWG2E7z"
      },
      "source": [
        "df1.drop('Player_Name',axis=1 , inplace=True)"
      ],
      "execution_count": 153,
      "outputs": []
    },
    {
      "cell_type": "code",
      "metadata": {
        "colab": {
          "base_uri": "https://localhost:8080/"
        },
        "id": "8_GTYto02RGl",
        "outputId": "d2c31126-8962-449a-d977-9715d1cba530"
      },
      "source": [
        "df1.dtypes"
      ],
      "execution_count": 154,
      "outputs": [
        {
          "output_type": "execute_result",
          "data": {
            "text/plain": [
              "Batting_Hand                int64\n",
              "total_matches               int64\n",
              "total_runs                  int64\n",
              "centuries                   int64\n",
              "half_centuries              int64\n",
              "total_fours                 int64\n",
              "total_sixes                 int64\n",
              "total_dotballs              int64\n",
              "total_balls_faced           int64\n",
              "total_ducks                 int64\n",
              "best_score                  int64\n",
              "total_outs                  int64\n",
              "batting_average           float64\n",
              "India                       uint8\n",
              "New Zealand                 uint8\n",
              "South Africa                uint8\n",
              "Sri Lanka                   uint8\n",
              "West Indies                 uint8\n",
              "other                       uint8\n",
              "Legbreak googly             uint8\n",
              "Right-arm fast-medium       uint8\n",
              "Right-arm medium            uint8\n",
              "Right-arm medium-fast       uint8\n",
              "Right-arm offbreak          uint8\n",
              "Slow left-arm orthodox      uint8\n",
              "other_bowling               uint8\n",
              "dtype: object"
            ]
          },
          "metadata": {},
          "execution_count": 154
        }
      ]
    },
    {
      "cell_type": "code",
      "metadata": {
        "id": "8op-LyLW37JB",
        "colab": {
          "base_uri": "https://localhost:8080/",
          "height": 182
        },
        "outputId": "f6ca1ac6-b385-47f7-d895-dba817826afb"
      },
      "source": [
        "df1.head(2)"
      ],
      "execution_count": 155,
      "outputs": [
        {
          "output_type": "execute_result",
          "data": {
            "text/html": [
              "<div>\n",
              "<style scoped>\n",
              "    .dataframe tbody tr th:only-of-type {\n",
              "        vertical-align: middle;\n",
              "    }\n",
              "\n",
              "    .dataframe tbody tr th {\n",
              "        vertical-align: top;\n",
              "    }\n",
              "\n",
              "    .dataframe thead th {\n",
              "        text-align: right;\n",
              "    }\n",
              "</style>\n",
              "<table border=\"1\" class=\"dataframe\">\n",
              "  <thead>\n",
              "    <tr style=\"text-align: right;\">\n",
              "      <th></th>\n",
              "      <th>Batting_Hand</th>\n",
              "      <th>total_matches</th>\n",
              "      <th>total_runs</th>\n",
              "      <th>centuries</th>\n",
              "      <th>half_centuries</th>\n",
              "      <th>total_fours</th>\n",
              "      <th>total_sixes</th>\n",
              "      <th>total_dotballs</th>\n",
              "      <th>total_balls_faced</th>\n",
              "      <th>total_ducks</th>\n",
              "      <th>best_score</th>\n",
              "      <th>total_outs</th>\n",
              "      <th>batting_average</th>\n",
              "      <th>India</th>\n",
              "      <th>New Zealand</th>\n",
              "      <th>South Africa</th>\n",
              "      <th>Sri Lanka</th>\n",
              "      <th>West Indies</th>\n",
              "      <th>other</th>\n",
              "      <th>Legbreak googly</th>\n",
              "      <th>Right-arm fast-medium</th>\n",
              "      <th>Right-arm medium</th>\n",
              "      <th>Right-arm medium-fast</th>\n",
              "      <th>Right-arm offbreak</th>\n",
              "      <th>Slow left-arm orthodox</th>\n",
              "      <th>other_bowling</th>\n",
              "    </tr>\n",
              "  </thead>\n",
              "  <tbody>\n",
              "    <tr>\n",
              "      <th>0</th>\n",
              "      <td>1</td>\n",
              "      <td>59</td>\n",
              "      <td>1349</td>\n",
              "      <td>0</td>\n",
              "      <td>7</td>\n",
              "      <td>137</td>\n",
              "      <td>42</td>\n",
              "      <td>662</td>\n",
              "      <td>1326</td>\n",
              "      <td>7</td>\n",
              "      <td>91</td>\n",
              "      <td>38</td>\n",
              "      <td>35.500000</td>\n",
              "      <td>1</td>\n",
              "      <td>0</td>\n",
              "      <td>0</td>\n",
              "      <td>0</td>\n",
              "      <td>0</td>\n",
              "      <td>0</td>\n",
              "      <td>0</td>\n",
              "      <td>0</td>\n",
              "      <td>1</td>\n",
              "      <td>0</td>\n",
              "      <td>0</td>\n",
              "      <td>0</td>\n",
              "      <td>0</td>\n",
              "    </tr>\n",
              "    <tr>\n",
              "      <th>1</th>\n",
              "      <td>0</td>\n",
              "      <td>92</td>\n",
              "      <td>2435</td>\n",
              "      <td>2</td>\n",
              "      <td>11</td>\n",
              "      <td>248</td>\n",
              "      <td>106</td>\n",
              "      <td>893</td>\n",
              "      <td>1954</td>\n",
              "      <td>5</td>\n",
              "      <td>158</td>\n",
              "      <td>76</td>\n",
              "      <td>32.039474</td>\n",
              "      <td>0</td>\n",
              "      <td>1</td>\n",
              "      <td>0</td>\n",
              "      <td>0</td>\n",
              "      <td>0</td>\n",
              "      <td>0</td>\n",
              "      <td>0</td>\n",
              "      <td>0</td>\n",
              "      <td>1</td>\n",
              "      <td>0</td>\n",
              "      <td>0</td>\n",
              "      <td>0</td>\n",
              "      <td>0</td>\n",
              "    </tr>\n",
              "  </tbody>\n",
              "</table>\n",
              "</div>"
            ],
            "text/plain": [
              "   Batting_Hand  total_matches  ...  Slow left-arm orthodox  other_bowling\n",
              "0             1             59  ...                       0              0\n",
              "1             0             92  ...                       0              0\n",
              "\n",
              "[2 rows x 26 columns]"
            ]
          },
          "metadata": {},
          "execution_count": 155
        }
      ]
    },
    {
      "cell_type": "code",
      "metadata": {
        "id": "UXi63fxp4WsY"
      },
      "source": [
        "X = df1.drop('Batting_Hand' , axis = 1)\n",
        "y = df1[['Batting_Hand']]"
      ],
      "execution_count": 156,
      "outputs": []
    },
    {
      "cell_type": "code",
      "metadata": {
        "colab": {
          "base_uri": "https://localhost:8080/",
          "height": 275
        },
        "id": "H503eMHgmEdG",
        "outputId": "93316efe-c161-4e6f-b219-6737b0403e54"
      },
      "source": [
        "X.head()"
      ],
      "execution_count": 157,
      "outputs": [
        {
          "output_type": "execute_result",
          "data": {
            "text/html": [
              "<div>\n",
              "<style scoped>\n",
              "    .dataframe tbody tr th:only-of-type {\n",
              "        vertical-align: middle;\n",
              "    }\n",
              "\n",
              "    .dataframe tbody tr th {\n",
              "        vertical-align: top;\n",
              "    }\n",
              "\n",
              "    .dataframe thead th {\n",
              "        text-align: right;\n",
              "    }\n",
              "</style>\n",
              "<table border=\"1\" class=\"dataframe\">\n",
              "  <thead>\n",
              "    <tr style=\"text-align: right;\">\n",
              "      <th></th>\n",
              "      <th>total_matches</th>\n",
              "      <th>total_runs</th>\n",
              "      <th>centuries</th>\n",
              "      <th>half_centuries</th>\n",
              "      <th>total_fours</th>\n",
              "      <th>total_sixes</th>\n",
              "      <th>total_dotballs</th>\n",
              "      <th>total_balls_faced</th>\n",
              "      <th>total_ducks</th>\n",
              "      <th>best_score</th>\n",
              "      <th>total_outs</th>\n",
              "      <th>batting_average</th>\n",
              "      <th>India</th>\n",
              "      <th>New Zealand</th>\n",
              "      <th>South Africa</th>\n",
              "      <th>Sri Lanka</th>\n",
              "      <th>West Indies</th>\n",
              "      <th>other</th>\n",
              "      <th>Legbreak googly</th>\n",
              "      <th>Right-arm fast-medium</th>\n",
              "      <th>Right-arm medium</th>\n",
              "      <th>Right-arm medium-fast</th>\n",
              "      <th>Right-arm offbreak</th>\n",
              "      <th>Slow left-arm orthodox</th>\n",
              "      <th>other_bowling</th>\n",
              "    </tr>\n",
              "  </thead>\n",
              "  <tbody>\n",
              "    <tr>\n",
              "      <th>0</th>\n",
              "      <td>59</td>\n",
              "      <td>1349</td>\n",
              "      <td>0</td>\n",
              "      <td>7</td>\n",
              "      <td>137</td>\n",
              "      <td>42</td>\n",
              "      <td>662</td>\n",
              "      <td>1326</td>\n",
              "      <td>7</td>\n",
              "      <td>91</td>\n",
              "      <td>38</td>\n",
              "      <td>35.500000</td>\n",
              "      <td>1</td>\n",
              "      <td>0</td>\n",
              "      <td>0</td>\n",
              "      <td>0</td>\n",
              "      <td>0</td>\n",
              "      <td>0</td>\n",
              "      <td>0</td>\n",
              "      <td>0</td>\n",
              "      <td>1</td>\n",
              "      <td>0</td>\n",
              "      <td>0</td>\n",
              "      <td>0</td>\n",
              "      <td>0</td>\n",
              "    </tr>\n",
              "    <tr>\n",
              "      <th>1</th>\n",
              "      <td>92</td>\n",
              "      <td>2435</td>\n",
              "      <td>2</td>\n",
              "      <td>11</td>\n",
              "      <td>248</td>\n",
              "      <td>106</td>\n",
              "      <td>893</td>\n",
              "      <td>1954</td>\n",
              "      <td>5</td>\n",
              "      <td>158</td>\n",
              "      <td>76</td>\n",
              "      <td>32.039474</td>\n",
              "      <td>0</td>\n",
              "      <td>1</td>\n",
              "      <td>0</td>\n",
              "      <td>0</td>\n",
              "      <td>0</td>\n",
              "      <td>0</td>\n",
              "      <td>0</td>\n",
              "      <td>0</td>\n",
              "      <td>1</td>\n",
              "      <td>0</td>\n",
              "      <td>0</td>\n",
              "      <td>0</td>\n",
              "      <td>0</td>\n",
              "    </tr>\n",
              "    <tr>\n",
              "      <th>2</th>\n",
              "      <td>10</td>\n",
              "      <td>91</td>\n",
              "      <td>0</td>\n",
              "      <td>0</td>\n",
              "      <td>5</td>\n",
              "      <td>2</td>\n",
              "      <td>69</td>\n",
              "      <td>129</td>\n",
              "      <td>4</td>\n",
              "      <td>28</td>\n",
              "      <td>4</td>\n",
              "      <td>22.750000</td>\n",
              "      <td>0</td>\n",
              "      <td>0</td>\n",
              "      <td>0</td>\n",
              "      <td>0</td>\n",
              "      <td>0</td>\n",
              "      <td>0</td>\n",
              "      <td>0</td>\n",
              "      <td>0</td>\n",
              "      <td>1</td>\n",
              "      <td>0</td>\n",
              "      <td>0</td>\n",
              "      <td>0</td>\n",
              "      <td>0</td>\n",
              "    </tr>\n",
              "    <tr>\n",
              "      <th>3</th>\n",
              "      <td>64</td>\n",
              "      <td>1322</td>\n",
              "      <td>0</td>\n",
              "      <td>5</td>\n",
              "      <td>90</td>\n",
              "      <td>60</td>\n",
              "      <td>423</td>\n",
              "      <td>1099</td>\n",
              "      <td>8</td>\n",
              "      <td>71</td>\n",
              "      <td>32</td>\n",
              "      <td>41.312500</td>\n",
              "      <td>0</td>\n",
              "      <td>0</td>\n",
              "      <td>0</td>\n",
              "      <td>0</td>\n",
              "      <td>0</td>\n",
              "      <td>0</td>\n",
              "      <td>0</td>\n",
              "      <td>0</td>\n",
              "      <td>0</td>\n",
              "      <td>0</td>\n",
              "      <td>1</td>\n",
              "      <td>0</td>\n",
              "      <td>0</td>\n",
              "    </tr>\n",
              "    <tr>\n",
              "      <th>4</th>\n",
              "      <td>8</td>\n",
              "      <td>64</td>\n",
              "      <td>0</td>\n",
              "      <td>0</td>\n",
              "      <td>7</td>\n",
              "      <td>2</td>\n",
              "      <td>51</td>\n",
              "      <td>84</td>\n",
              "      <td>0</td>\n",
              "      <td>16</td>\n",
              "      <td>7</td>\n",
              "      <td>9.142857</td>\n",
              "      <td>0</td>\n",
              "      <td>0</td>\n",
              "      <td>0</td>\n",
              "      <td>0</td>\n",
              "      <td>0</td>\n",
              "      <td>1</td>\n",
              "      <td>0</td>\n",
              "      <td>0</td>\n",
              "      <td>0</td>\n",
              "      <td>0</td>\n",
              "      <td>1</td>\n",
              "      <td>0</td>\n",
              "      <td>0</td>\n",
              "    </tr>\n",
              "  </tbody>\n",
              "</table>\n",
              "</div>"
            ],
            "text/plain": [
              "   total_matches  total_runs  ...  Slow left-arm orthodox  other_bowling\n",
              "0             59        1349  ...                       0              0\n",
              "1             92        2435  ...                       0              0\n",
              "2             10          91  ...                       0              0\n",
              "3             64        1322  ...                       0              0\n",
              "4              8          64  ...                       0              0\n",
              "\n",
              "[5 rows x 25 columns]"
            ]
          },
          "metadata": {},
          "execution_count": 157
        }
      ]
    },
    {
      "cell_type": "code",
      "metadata": {
        "colab": {
          "base_uri": "https://localhost:8080/",
          "height": 204
        },
        "id": "ObY4Xih2mF87",
        "outputId": "a3949392-6c66-479c-aa7c-a5859f914434"
      },
      "source": [
        "y.head()"
      ],
      "execution_count": 158,
      "outputs": [
        {
          "output_type": "execute_result",
          "data": {
            "text/html": [
              "<div>\n",
              "<style scoped>\n",
              "    .dataframe tbody tr th:only-of-type {\n",
              "        vertical-align: middle;\n",
              "    }\n",
              "\n",
              "    .dataframe tbody tr th {\n",
              "        vertical-align: top;\n",
              "    }\n",
              "\n",
              "    .dataframe thead th {\n",
              "        text-align: right;\n",
              "    }\n",
              "</style>\n",
              "<table border=\"1\" class=\"dataframe\">\n",
              "  <thead>\n",
              "    <tr style=\"text-align: right;\">\n",
              "      <th></th>\n",
              "      <th>Batting_Hand</th>\n",
              "    </tr>\n",
              "  </thead>\n",
              "  <tbody>\n",
              "    <tr>\n",
              "      <th>0</th>\n",
              "      <td>1</td>\n",
              "    </tr>\n",
              "    <tr>\n",
              "      <th>1</th>\n",
              "      <td>0</td>\n",
              "    </tr>\n",
              "    <tr>\n",
              "      <th>2</th>\n",
              "      <td>0</td>\n",
              "    </tr>\n",
              "    <tr>\n",
              "      <th>3</th>\n",
              "      <td>0</td>\n",
              "    </tr>\n",
              "    <tr>\n",
              "      <th>4</th>\n",
              "      <td>0</td>\n",
              "    </tr>\n",
              "  </tbody>\n",
              "</table>\n",
              "</div>"
            ],
            "text/plain": [
              "   Batting_Hand\n",
              "0             1\n",
              "1             0\n",
              "2             0\n",
              "3             0\n",
              "4             0"
            ]
          },
          "metadata": {},
          "execution_count": 158
        }
      ]
    },
    {
      "cell_type": "code",
      "metadata": {
        "id": "5-_RPjIzmRVO"
      },
      "source": [
        "from sklearn.model_selection import train_test_split"
      ],
      "execution_count": 159,
      "outputs": []
    },
    {
      "cell_type": "code",
      "metadata": {
        "id": "PiQuhhsXmahH"
      },
      "source": [
        "X_train, X_test, y_train, y_test = train_test_split(X, y, test_size=0.10, random_state=42)"
      ],
      "execution_count": 160,
      "outputs": []
    },
    {
      "cell_type": "code",
      "metadata": {
        "colab": {
          "base_uri": "https://localhost:8080/"
        },
        "id": "kSSvDMTzmjk4",
        "outputId": "0c024589-d3ab-467d-99b1-257e13215e15"
      },
      "source": [
        "X_train.shape"
      ],
      "execution_count": 161,
      "outputs": [
        {
          "output_type": "execute_result",
          "data": {
            "text/plain": [
              "(470, 25)"
            ]
          },
          "metadata": {},
          "execution_count": 161
        }
      ]
    },
    {
      "cell_type": "code",
      "metadata": {
        "colab": {
          "base_uri": "https://localhost:8080/"
        },
        "id": "qoUxgJNEmm8E",
        "outputId": "7519a5d9-6e46-4d39-f926-7caf8a3b7de1"
      },
      "source": [
        "X_test.shape"
      ],
      "execution_count": 162,
      "outputs": [
        {
          "output_type": "execute_result",
          "data": {
            "text/plain": [
              "(53, 25)"
            ]
          },
          "metadata": {},
          "execution_count": 162
        }
      ]
    },
    {
      "cell_type": "code",
      "metadata": {
        "id": "DoLtCMJimp3-"
      },
      "source": [
        "from sklearn.preprocessing import StandardScaler"
      ],
      "execution_count": 163,
      "outputs": []
    },
    {
      "cell_type": "code",
      "metadata": {
        "id": "E4HpGG3BsCT2"
      },
      "source": [
        "sc = StandardScaler()\n",
        "X_train = sc.fit_transform(X_train)\n",
        "X_test = sc.transform(X_test)"
      ],
      "execution_count": 164,
      "outputs": []
    },
    {
      "cell_type": "code",
      "metadata": {
        "colab": {
          "base_uri": "https://localhost:8080/"
        },
        "id": "l_HkrS2usQ8X",
        "outputId": "7b1ed56b-0656-4def-fc9f-987c8f8a1691"
      },
      "source": [
        "X_train.shape"
      ],
      "execution_count": 165,
      "outputs": [
        {
          "output_type": "execute_result",
          "data": {
            "text/plain": [
              "(470, 25)"
            ]
          },
          "metadata": {},
          "execution_count": 165
        }
      ]
    },
    {
      "cell_type": "code",
      "metadata": {
        "id": "-WS3JfdusTEH"
      },
      "source": [
        "from sklearn.linear_model import LogisticRegression"
      ],
      "execution_count": 166,
      "outputs": []
    },
    {
      "cell_type": "code",
      "metadata": {
        "colab": {
          "base_uri": "https://localhost:8080/"
        },
        "id": "w35Dmluxshw5",
        "outputId": "96045b41-3d6e-4b1c-b453-2565c55515ed"
      },
      "source": [
        "model = LogisticRegression()\n",
        "model.fit(X_train , y_train)"
      ],
      "execution_count": 167,
      "outputs": [
        {
          "output_type": "stream",
          "name": "stderr",
          "text": [
            "/usr/local/lib/python3.7/dist-packages/sklearn/utils/validation.py:760: DataConversionWarning: A column-vector y was passed when a 1d array was expected. Please change the shape of y to (n_samples, ), for example using ravel().\n",
            "  y = column_or_1d(y, warn=True)\n"
          ]
        },
        {
          "output_type": "execute_result",
          "data": {
            "text/plain": [
              "LogisticRegression(C=1.0, class_weight=None, dual=False, fit_intercept=True,\n",
              "                   intercept_scaling=1, l1_ratio=None, max_iter=100,\n",
              "                   multi_class='auto', n_jobs=None, penalty='l2',\n",
              "                   random_state=None, solver='lbfgs', tol=0.0001, verbose=0,\n",
              "                   warm_start=False)"
            ]
          },
          "metadata": {},
          "execution_count": 167
        }
      ]
    },
    {
      "cell_type": "code",
      "metadata": {
        "colab": {
          "base_uri": "https://localhost:8080/"
        },
        "id": "BguFQ3uOstKa",
        "outputId": "ec5e8093-7df3-47e4-eb48-1cf09313eefe"
      },
      "source": [
        "model.score(X_test,y_test)"
      ],
      "execution_count": 168,
      "outputs": [
        {
          "output_type": "execute_result",
          "data": {
            "text/plain": [
              "0.8301886792452831"
            ]
          },
          "metadata": {},
          "execution_count": 168
        }
      ]
    },
    {
      "cell_type": "code",
      "metadata": {
        "id": "XCec1I3ms1jL"
      },
      "source": [
        "y_pred = model.predict(X_test)"
      ],
      "execution_count": 169,
      "outputs": []
    },
    {
      "cell_type": "code",
      "metadata": {
        "id": "3Jyz7yHhs-Lc"
      },
      "source": [
        "from sklearn.metrics import confusion_matrix , accuracy_score , classification_report"
      ],
      "execution_count": 170,
      "outputs": []
    },
    {
      "cell_type": "code",
      "metadata": {
        "colab": {
          "base_uri": "https://localhost:8080/"
        },
        "id": "r_YQQgletVi7",
        "outputId": "927dbdab-b5a0-4736-d85a-57f0fcb4d3d2"
      },
      "source": [
        "accuracy_score(y_test,y_pred)"
      ],
      "execution_count": 171,
      "outputs": [
        {
          "output_type": "execute_result",
          "data": {
            "text/plain": [
              "0.8301886792452831"
            ]
          },
          "metadata": {},
          "execution_count": 171
        }
      ]
    },
    {
      "cell_type": "code",
      "metadata": {
        "colab": {
          "base_uri": "https://localhost:8080/",
          "height": 500
        },
        "id": "IdeYKMdutdlw",
        "outputId": "2e7de87a-acaf-4a7d-9af4-ecdf5e35beab"
      },
      "source": [
        "sns.heatmap(confusion_matrix(y_test,y_pred) , annot=True)"
      ],
      "execution_count": 172,
      "outputs": [
        {
          "output_type": "execute_result",
          "data": {
            "text/plain": [
              "<matplotlib.axes._subplots.AxesSubplot at 0x7ff9de6c3490>"
            ]
          },
          "metadata": {},
          "execution_count": 172
        },
        {
          "output_type": "display_data",
          "data": {
            "image/png": "[encoded data removed]",
            "text/plain": [
              "<Figure size 576x576 with 2 Axes>"
            ]
          },
          "metadata": {
            "needs_background": "light"
          }
        }
      ]
    },
    {
      "cell_type": "code",
      "metadata": {
        "id": "aDuyEs_ctluN"
      },
      "source": [
        "from sklearn.svm import SVC"
      ],
      "execution_count": 173,
      "outputs": []
    },
    {
      "cell_type": "code",
      "metadata": {
        "id": "EKIXpveyuA96"
      },
      "source": [
        "m1 = SVC()"
      ],
      "execution_count": 174,
      "outputs": []
    },
    {
      "cell_type": "code",
      "metadata": {
        "id": "KMShBK6ouEg1"
      },
      "source": [
        "from sklearn.model_selection import GridSearchCV"
      ],
      "execution_count": 175,
      "outputs": []
    },
    {
      "cell_type": "code",
      "metadata": {
        "id": "Ye2j6uYpuIaC"
      },
      "source": [
        "param = {'C' : [1,0.1,0.01,0.001,1.1,],\n",
        "         'kernel' : ['linear', 'poly', 'rbf', 'sigmoid']\n",
        "         \n",
        "         }"
      ],
      "execution_count": 176,
      "outputs": []
    },
    {
      "cell_type": "code",
      "metadata": {
        "id": "RXpIAyULvt0v"
      },
      "source": [
        "gd = GridSearchCV(estimator= m1,param_grid=param,scoring='accuracy',cv=5)\n"
      ],
      "execution_count": 177,
      "outputs": []
    },
    {
      "cell_type": "code",
      "metadata": {
        "colab": {
          "base_uri": "https://localhost:8080/"
        },
        "id": "uq3TfvWywI4T",
        "outputId": "ffb4e447-bb83-40ed-b8b0-1169d72df0d0"
      },
      "source": [
        "gd.fit(X_train,y_train.values.ravel())"
      ],
      "execution_count": 178,
      "outputs": [
        {
          "output_type": "execute_result",
          "data": {
            "text/plain": [
              "GridSearchCV(cv=5, error_score=nan,\n",
              "             estimator=SVC(C=1.0, break_ties=False, cache_size=200,\n",
              "                           class_weight=None, coef0=0.0,\n",
              "                           decision_function_shape='ovr', degree=3,\n",
              "                           gamma='scale', kernel='rbf', max_iter=-1,\n",
              "                           probability=False, random_state=None, shrinking=True,\n",
              "                           tol=0.001, verbose=False),\n",
              "             iid='deprecated', n_jobs=None,\n",
              "             param_grid={'C': [1, 0.1, 0.01, 0.001, 1.1],\n",
              "                         'kernel': ['linear', 'poly', 'rbf', 'sigmoid']},\n",
              "             pre_dispatch='2*n_jobs', refit=True, return_train_score=False,\n",
              "             scoring='accuracy', verbose=0)"
            ]
          },
          "metadata": {},
          "execution_count": 178
        }
      ]
    },
    {
      "cell_type": "code",
      "metadata": {
        "colab": {
          "base_uri": "https://localhost:8080/"
        },
        "id": "uJNc9h9rwjTk",
        "outputId": "4851bc6e-73dd-48be-ce44-d61cf5649c29"
      },
      "source": [
        "gd.best_params_"
      ],
      "execution_count": 179,
      "outputs": [
        {
          "output_type": "execute_result",
          "data": {
            "text/plain": [
              "{'C': 0.1, 'kernel': 'linear'}"
            ]
          },
          "metadata": {},
          "execution_count": 179
        }
      ]
    },
    {
      "cell_type": "code",
      "metadata": {
        "colab": {
          "base_uri": "https://localhost:8080/"
        },
        "id": "WbGeLNWbxO9U",
        "outputId": "36eb7c80-e050-4aee-8fdd-b732463f99c9"
      },
      "source": [
        "gd.best_score_"
      ],
      "execution_count": 180,
      "outputs": [
        {
          "output_type": "execute_result",
          "data": {
            "text/plain": [
              "0.7978723404255319"
            ]
          },
          "metadata": {},
          "execution_count": 180
        }
      ]
    },
    {
      "cell_type": "code",
      "metadata": {
        "colab": {
          "base_uri": "https://localhost:8080/"
        },
        "id": "7pRqZD1JxTHQ",
        "outputId": "090d9cca-7ab6-475d-8335-67c8cce75437"
      },
      "source": [
        "gd.score(X_test,y_test)"
      ],
      "execution_count": 181,
      "outputs": [
        {
          "output_type": "execute_result",
          "data": {
            "text/plain": [
              "0.8301886792452831"
            ]
          },
          "metadata": {},
          "execution_count": 181
        }
      ]
    },
    {
      "cell_type": "code",
      "metadata": {
        "id": "mEF-iEz--V7e"
      },
      "source": [
        "y = gd.predict(X_test)"
      ],
      "execution_count": 182,
      "outputs": []
    },
    {
      "cell_type": "code",
      "metadata": {
        "colab": {
          "base_uri": "https://localhost:8080/",
          "height": 504
        },
        "id": "FtvhzLi5y8ax",
        "outputId": "c6f35141-ada5-4765-8132-cfdaa57b299d"
      },
      "source": [
        "sns.heatmap(confusion_matrix(y,y_pred) , annot=True)"
      ],
      "execution_count": 183,
      "outputs": [
        {
          "output_type": "execute_result",
          "data": {
            "text/plain": [
              "<matplotlib.axes._subplots.AxesSubplot at 0x7ff9de16bd10>"
            ]
          },
          "metadata": {},
          "execution_count": 183
        },
        {
          "output_type": "display_data",
          "data": {
            "image/png": "[encoded data removed]",
            "text/plain": [
              "<Figure size 576x576 with 2 Axes>"
            ]
          },
          "metadata": {
            "needs_background": "light"
          }
        }
      ]
    },
    {
      "cell_type": "code",
      "metadata": {
        "colab": {
          "base_uri": "https://localhost:8080/"
        },
        "id": "e0nXSrtU-oWK",
        "outputId": "7953b6cb-6da9-48ba-9559-bd9c21b4f0de"
      },
      "source": [
        "accuracy_score(y,y_test)"
      ],
      "execution_count": 184,
      "outputs": [
        {
          "output_type": "execute_result",
          "data": {
            "text/plain": [
              "0.8301886792452831"
            ]
          },
          "metadata": {},
          "execution_count": 184
        }
      ]
    },
    {
      "cell_type": "code",
      "metadata": {
        "colab": {
          "base_uri": "https://localhost:8080/"
        },
        "id": "OKtYp2oJ-wBO",
        "outputId": "6de85386-18ba-40f8-d28b-257cdc2720a3"
      },
      "source": [
        "print(classification_report(y_test,y))"
      ],
      "execution_count": 185,
      "outputs": [
        {
          "output_type": "stream",
          "name": "stdout",
          "text": [
            "              precision    recall  f1-score   support\n",
            "\n",
            "           0       0.85      0.98      0.91        45\n",
            "           1       0.00      0.00      0.00         8\n",
            "\n",
            "    accuracy                           0.83        53\n",
            "   macro avg       0.42      0.49      0.45        53\n",
            "weighted avg       0.72      0.83      0.77        53\n",
            "\n"
          ]
        }
      ]
    },
    {
      "cell_type": "code",
      "metadata": {
        "colab": {
          "base_uri": "https://localhost:8080/"
        },
        "id": "pV9870T6_diY",
        "outputId": "9638268e-8319-4bff-8efc-05fdda6a2743"
      },
      "source": [
        "gd.score(X_test,y_test)"
      ],
      "execution_count": 186,
      "outputs": [
        {
          "output_type": "execute_result",
          "data": {
            "text/plain": [
              "0.8301886792452831"
            ]
          },
          "metadata": {},
          "execution_count": 186
        }
      ]
    },
    {
      "cell_type": "code",
      "metadata": {
        "id": "w5CrYfhIxZyb"
      },
      "source": [
        "# best_model = {\n",
        "#     'svm' : {\n",
        "#         'model' : SVC(gamma='auto'),\n",
        "#         'param' : {\n",
        "#             'C' : [1,10,100,1000,0.1],\n",
        "#             'kernel' : ['linear', 'poly', 'rbf', 'sigmoid']\n",
        "\n",
        "#         }\n",
        "#     }\n",
        "# }"
      ],
      "execution_count": 187,
      "outputs": []
    },
    {
      "cell_type": "code",
      "metadata": {
        "id": "9q-V1itMzDxh"
      },
      "source": [
        "# best_model.items()"
      ],
      "execution_count": 188,
      "outputs": []
    },
    {
      "cell_type": "code",
      "metadata": {
        "id": "C1d4W-NS0W8X"
      },
      "source": [
        "# s = []\n",
        "# for model_name , params in best_model.items():\n",
        "#   grid = GridSearchCV(estimator=params['model'] , param_grid=params['param'] , cv=3,)\n",
        "#   grid.fit(X_train,y_train.values.ravel())\n",
        "#   s.append({\n",
        "#       'best_estimator' : model_name,\n",
        "#       'score' : grid.best_score_,\n",
        "#       'best_param' : grid.best_score_\n",
        "#   })"
      ],
      "execution_count": 189,
      "outputs": []
    },
    {
      "cell_type": "code",
      "metadata": {
        "id": "Aral9IHc07IS"
      },
      "source": [
        ""
      ],
      "execution_count": 189,
      "outputs": []
    },
    {
      "cell_type": "code",
      "metadata": {
        "id": "jDlOevIC09NO"
      },
      "source": [
        ""
      ],
      "execution_count": 189,
      "outputs": []
    },
    {
      "cell_type": "code",
      "metadata": {
        "id": "TG70p9FO1EM5"
      },
      "source": [
        ""
      ],
      "execution_count": 189,
      "outputs": []
    }
  ]
}